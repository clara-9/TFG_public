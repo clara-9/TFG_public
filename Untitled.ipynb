{
 "cells": [
  {
   "cell_type": "code",
   "execution_count": 4,
   "id": "75a52e07",
   "metadata": {},
   "outputs": [],
   "source": [
    "import helpers\n",
    "import numpy as np\n"
   ]
  },
  {
   "cell_type": "code",
   "execution_count": 6,
   "id": "63fdd1ee",
   "metadata": {},
   "outputs": [
    {
     "name": "stdout",
     "output_type": "stream",
     "text": [
      "['2_1_1A.csv', '2_2_1A.csv', '2_3_1A.csv', '2_4_1A.csv', '2_5_1A.csv']\n",
      "Getting data from file 2_1_1A.csv with shape (16517, 24)\n",
      "Getting data from file 2_2_1A.csv with shape (16517, 24)\n",
      "Getting data from file 2_3_1A.csv with shape (16517, 24)\n",
      "Getting data from file 2_4_1A.csv with shape (16517, 24)\n",
      "Getting data from file 2_5_1A.csv with shape (16517, 24)\n"
     ]
    }
   ],
   "source": [
    "data = helpers.get_specific_data(statuses=[2],amplitudes=[1])\n",
    "\n",
    "train, test=helpers.train_test_split(data, test_size=0.2)"
   ]
  },
  {
   "cell_type": "code",
   "execution_count": 9,
   "id": "b768239d",
   "metadata": {},
   "outputs": [
    {
     "data": {
      "text/plain": [
       "(66068, 24)"
      ]
     },
     "execution_count": 9,
     "metadata": {},
     "output_type": "execute_result"
    }
   ],
   "source": [
    "train.shape"
   ]
  },
  {
   "cell_type": "code",
   "execution_count": 10,
   "id": "a32ddef7",
   "metadata": {},
   "outputs": [
    {
     "data": {
      "text/plain": [
       "13213.6"
      ]
     },
     "execution_count": 10,
     "metadata": {},
     "output_type": "execute_result"
    }
   ],
   "source": [
    "66068/5"
   ]
  },
  {
   "cell_type": "code",
   "execution_count": 118,
   "id": "be8af377",
   "metadata": {},
   "outputs": [
    {
     "data": {
      "text/plain": [
       "1.0000000000000002"
      ]
     },
     "execution_count": 118,
     "metadata": {},
     "output_type": "execute_result"
    }
   ],
   "source": [
    "np.std(data)"
   ]
  },
  {
   "cell_type": "code",
   "execution_count": 119,
   "id": "0b0a3613",
   "metadata": {},
   "outputs": [],
   "source": [
    "m=[]\n",
    "for i in data:\n",
    "    m.append(np.mean(i))"
   ]
  },
  {
   "cell_type": "code",
   "execution_count": 121,
   "id": "4a105b3a",
   "metadata": {},
   "outputs": [
    {
     "data": {
      "text/plain": [
       "1.1021973160134084e-16"
      ]
     },
     "execution_count": 121,
     "metadata": {},
     "output_type": "execute_result"
    }
   ],
   "source": [
    "np.mean(m)"
   ]
  },
  {
   "cell_type": "code",
   "execution_count": 123,
   "id": "83d5f763",
   "metadata": {},
   "outputs": [
    {
     "name": "stdout",
     "output_type": "stream",
     "text": [
      "['1_10_05A.csv', '1_10_1A.csv', '1_10_2A.csv', '1_10_3A.csv', '1_1_05A.csv', '1_1_1A.csv', '1_1_2A.csv', '1_1_3A.csv', '1_2_05A.csv', '1_2_1A.csv', '1_2_2A.csv', '1_2_3A.csv', '1_3_05A.csv', '1_3_1A.csv', '1_3_2A.csv', '1_3_3A.csv', '1_4_05A.csv', '1_4_1A.csv', '1_4_2A.csv', '1_4_3A.csv', '1_5_05A.csv', '1_5_1A.csv', '1_5_2A.csv', '1_5_3A.csv', '1_6_05A.csv', '1_6_1A.csv', '1_6_2A.csv', '1_6_3A.csv', '1_7_05A.csv', '1_7_1A.csv', '1_7_2A.csv', '1_7_3A.csv', '1_8_05A.csv', '1_8_1A.csv', '1_8_2A.csv', '1_8_3A.csv', '1_9_05A.csv', '1_9_1A.csv', '1_9_2A.csv', '1_9_3A.csv']\n",
      "Getting data from file 1_10_05A.csv with shape (16517, 24)\n",
      "Getting data from file 1_10_1A.csv with shape (16517, 24)\n",
      "Getting data from file 1_10_2A.csv with shape (16517, 24)\n",
      "Getting data from file 1_10_3A.csv with shape (16517, 24)\n",
      "Getting data from file 1_1_05A.csv with shape (16517, 24)\n",
      "Getting data from file 1_1_1A.csv with shape (16517, 24)\n",
      "Getting data from file 1_1_2A.csv with shape (16517, 24)\n",
      "Getting data from file 1_1_3A.csv with shape (16517, 24)\n",
      "Getting data from file 1_2_05A.csv with shape (16517, 24)\n",
      "Getting data from file 1_2_1A.csv with shape (16517, 24)\n",
      "Getting data from file 1_2_2A.csv with shape (16517, 24)\n",
      "Getting data from file 1_2_3A.csv with shape (16517, 24)\n",
      "Getting data from file 1_3_05A.csv with shape (16517, 24)\n",
      "Getting data from file 1_3_1A.csv with shape (16517, 24)\n",
      "Getting data from file 1_3_2A.csv with shape (16517, 24)\n",
      "Getting data from file 1_3_3A.csv with shape (16517, 24)\n",
      "Getting data from file 1_4_05A.csv with shape (16517, 24)\n",
      "Getting data from file 1_4_1A.csv with shape (16517, 24)\n",
      "Getting data from file 1_4_2A.csv with shape (16517, 24)\n",
      "Getting data from file 1_4_3A.csv with shape (16517, 24)\n",
      "Getting data from file 1_5_05A.csv with shape (16517, 24)\n",
      "Getting data from file 1_5_1A.csv with shape (16517, 24)\n",
      "Getting data from file 1_5_2A.csv with shape (16517, 24)\n",
      "Getting data from file 1_5_3A.csv with shape (16517, 24)\n",
      "Getting data from file 1_6_05A.csv with shape (16517, 24)\n",
      "Getting data from file 1_6_1A.csv with shape (16517, 24)\n",
      "Getting data from file 1_6_2A.csv with shape (16517, 24)\n",
      "Getting data from file 1_6_3A.csv with shape (16517, 24)\n",
      "Getting data from file 1_7_05A.csv with shape (16517, 24)\n",
      "Getting data from file 1_7_1A.csv with shape (16517, 24)\n",
      "Getting data from file 1_7_2A.csv with shape (16517, 24)\n",
      "Getting data from file 1_7_3A.csv with shape (16517, 24)\n",
      "Getting data from file 1_8_05A.csv with shape (16517, 24)\n",
      "Getting data from file 1_8_1A.csv with shape (16517, 24)\n",
      "Getting data from file 1_8_2A.csv with shape (16517, 24)\n",
      "Getting data from file 1_8_3A.csv with shape (16517, 24)\n",
      "Getting data from file 1_9_05A.csv with shape (16517, 24)\n",
      "Getting data from file 1_9_1A.csv with shape (16517, 24)\n",
      "Getting data from file 1_9_2A.csv with shape (16517, 24)\n",
      "Getting data from file 1_9_3A.csv with shape (16517, 24)\n",
      "Reshaping data with shape (24, 528544) to (2656, 4776), with k=199, len(data[0])/k=528544/199=2656.0 samples\n",
      "Reshaping data with shape (24, 132136) to (664, 4776), with k=199, len(data[0])/k=132136/199=664.0 samples\n"
     ]
    }
   ],
   "source": [
    "data = get_specific_data(statuses=[1],amplitudes=[1,2,3,5])\n",
    "\n",
    "\n",
    "train, test=train_test_split(data, test_size=0.2)\n",
    "\n",
    "X_train=reshape(train,199)\n",
    "X_test=reshape(test,199)\n",
    "\n",
    "X_train = scale (scaler,X_train)\n",
    "X_test = scale (scaler,X_test)"
   ]
  },
  {
   "cell_type": "code",
   "execution_count": 160,
   "id": "11060a03",
   "metadata": {},
   "outputs": [
    {
     "data": {
      "text/plain": [
       "0.00017025910454135102"
      ]
     },
     "execution_count": 160,
     "metadata": {},
     "output_type": "execute_result"
    }
   ],
   "source": [
    "np.mean(X_train)"
   ]
  },
  {
   "cell_type": "code",
   "execution_count": 161,
   "id": "61386e5e",
   "metadata": {},
   "outputs": [
    {
     "data": {
      "text/plain": [
       "0.0001703857295998479"
      ]
     },
     "execution_count": 161,
     "metadata": {},
     "output_type": "execute_result"
    }
   ],
   "source": [
    "np.mean(X_test)"
   ]
  },
  {
   "cell_type": "code",
   "execution_count": 162,
   "id": "9c5cd34a",
   "metadata": {},
   "outputs": [],
   "source": [
    "train, test=train_test_split(data, test_size=0.2)"
   ]
  },
  {
   "cell_type": "code",
   "execution_count": 163,
   "id": "f5264d31",
   "metadata": {},
   "outputs": [
    {
     "name": "stdout",
     "output_type": "stream",
     "text": [
      "Reshaping data with shape (24, 528544) to (2656, 4776), with k=199, len(data[0])/k=528544/199=2656.0 samples\n",
      "Reshaping data with shape (24, 132136) to (664, 4776), with k=199, len(data[0])/k=132136/199=664.0 samples\n"
     ]
    }
   ],
   "source": [
    "X_train=reshape(train,199)\n",
    "X_test=reshape(test,199)"
   ]
  },
  {
   "cell_type": "code",
   "execution_count": 11,
   "id": "68ab76a5",
   "metadata": {},
   "outputs": [
    {
     "data": {
      "text/plain": [
       "16517.0"
      ]
     },
     "execution_count": 11,
     "metadata": {},
     "output_type": "execute_result"
    }
   ],
   "source": [
    "660680/10/4"
   ]
  },
  {
   "cell_type": "code",
   "execution_count": 12,
   "id": "a7493bc7",
   "metadata": {},
   "outputs": [
    {
     "data": {
      "text/plain": [
       "6144"
      ]
     },
     "execution_count": 12,
     "metadata": {},
     "output_type": "execute_result"
    }
   ],
   "source": [
    "256*24"
   ]
  },
  {
   "cell_type": "code",
   "execution_count": 13,
   "id": "22ab620f",
   "metadata": {},
   "outputs": [
    {
     "data": {
      "text/plain": [
       "166516.16666666666"
      ]
     },
     "execution_count": 13,
     "metadata": {},
     "output_type": "execute_result"
    }
   ],
   "source": [
    "999097/6"
   ]
  },
  {
   "cell_type": "code",
   "execution_count": 19,
   "id": "4c19c12f",
   "metadata": {},
   "outputs": [
    {
     "data": {
      "text/plain": [
       "2570.9159765625"
      ]
     },
     "execution_count": 19,
     "metadata": {},
     "output_type": "execute_result"
    }
   ],
   "source": [
    "166516*(0.9263671875/60)"
   ]
  },
  {
   "cell_type": "code",
   "execution_count": 20,
   "id": "8f557743",
   "metadata": {},
   "outputs": [
    {
     "data": {
      "text/plain": [
       "64.79221789883269"
      ]
     },
     "execution_count": 20,
     "metadata": {},
     "output_type": "execute_result"
    }
   ],
   "source": [
    "166516/2570"
   ]
  },
  {
   "cell_type": "code",
   "execution_count": 21,
   "id": "b401e145",
   "metadata": {},
   "outputs": [
    {
     "data": {
      "text/plain": [
       "64.76913345983554"
      ]
     },
     "execution_count": 21,
     "metadata": {},
     "output_type": "execute_result"
    }
   ],
   "source": [
    "1/(0.9263671875/60)"
   ]
  },
  {
   "cell_type": "code",
   "execution_count": null,
   "id": "3035634a",
   "metadata": {},
   "outputs": [],
   "source": []
  }
 ],
 "metadata": {
  "kernelspec": {
   "display_name": "Python 3 (ipykernel)",
   "language": "python",
   "name": "python3"
  },
  "language_info": {
   "codemirror_mode": {
    "name": "ipython",
    "version": 3
   },
   "file_extension": ".py",
   "mimetype": "text/x-python",
   "name": "python",
   "nbconvert_exporter": "python",
   "pygments_lexer": "ipython3",
   "version": "3.9.5"
  }
 },
 "nbformat": 4,
 "nbformat_minor": 5
}
