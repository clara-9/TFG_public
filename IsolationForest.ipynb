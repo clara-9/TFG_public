{
 "cells": [
  {
   "cell_type": "markdown",
   "id": "34447681",
   "metadata": {},
   "source": [
    "# Isolation Forest\n",
    "This notebook will introduce the Isolation Forest and the results obtained"
   ]
  },
  {
   "cell_type": "code",
   "execution_count": 1,
   "id": "b44d22ea",
   "metadata": {},
   "outputs": [],
   "source": [
    "import helpers\n",
    "\n",
    "from sklearn.metrics import confusion_matrix, accuracy_score\n",
    "from sklearn.ensemble import IsolationForest\n",
    "\n",
    "import seaborn as sns\n",
    "import matplotlib.pyplot as plt\n",
    "import pandas as pd\n",
    "import numpy as np\n",
    "\n",
    "import random\n",
    "from itertools import combinations\n",
    "\n",
    "from pylab import rcParams\n",
    "rcParams['figure.figsize'] = 12, 7"
   ]
  },
  {
   "cell_type": "markdown",
   "id": "87b7d373",
   "metadata": {},
   "source": [
    "## Train model"
   ]
  },
  {
   "cell_type": "code",
   "execution_count": 2,
   "id": "4d7a1cfa",
   "metadata": {},
   "outputs": [
    {
     "name": "stdout",
     "output_type": "stream",
     "text": [
      "['1_10_05A.csv', '1_10_1A.csv', '1_10_2A.csv', '1_10_3A.csv', '1_1_05A.csv', '1_1_1A.csv', '1_1_2A.csv', '1_1_3A.csv', '1_2_05A.csv', '1_2_1A.csv', '1_2_2A.csv', '1_2_3A.csv', '1_3_05A.csv', '1_3_1A.csv', '1_3_2A.csv', '1_3_3A.csv', '1_4_05A.csv', '1_4_1A.csv', '1_4_2A.csv', '1_4_3A.csv', '1_5_05A.csv', '1_5_1A.csv', '1_5_2A.csv', '1_5_3A.csv', '1_6_05A.csv', '1_6_1A.csv', '1_6_2A.csv', '1_6_3A.csv', '1_7_05A.csv', '1_7_1A.csv', '1_7_2A.csv', '1_7_3A.csv', '1_8_05A.csv', '1_8_1A.csv', '1_8_2A.csv', '1_8_3A.csv', '1_9_05A.csv', '1_9_1A.csv', '1_9_2A.csv', '1_9_3A.csv']\n",
      "Getting data from file 1_10_05A.csv with shape (16517, 24)\n",
      "Getting data from file 1_10_1A.csv with shape (16517, 24)\n",
      "Getting data from file 1_10_2A.csv with shape (16517, 24)\n",
      "Getting data from file 1_10_3A.csv with shape (16517, 24)\n",
      "Getting data from file 1_1_05A.csv with shape (16517, 24)\n",
      "Getting data from file 1_1_1A.csv with shape (16517, 24)\n",
      "Getting data from file 1_1_2A.csv with shape (16517, 24)\n",
      "Getting data from file 1_1_3A.csv with shape (16517, 24)\n",
      "Getting data from file 1_2_05A.csv with shape (16517, 24)\n",
      "Getting data from file 1_2_1A.csv with shape (16517, 24)\n",
      "Getting data from file 1_2_2A.csv with shape (16517, 24)\n",
      "Getting data from file 1_2_3A.csv with shape (16517, 24)\n",
      "Getting data from file 1_3_05A.csv with shape (16517, 24)\n",
      "Getting data from file 1_3_1A.csv with shape (16517, 24)\n",
      "Getting data from file 1_3_2A.csv with shape (16517, 24)\n",
      "Getting data from file 1_3_3A.csv with shape (16517, 24)\n",
      "Getting data from file 1_4_05A.csv with shape (16517, 24)\n",
      "Getting data from file 1_4_1A.csv with shape (16517, 24)\n",
      "Getting data from file 1_4_2A.csv with shape (16517, 24)\n",
      "Getting data from file 1_4_3A.csv with shape (16517, 24)\n",
      "Getting data from file 1_5_05A.csv with shape (16517, 24)\n",
      "Getting data from file 1_5_1A.csv with shape (16517, 24)\n",
      "Getting data from file 1_5_2A.csv with shape (16517, 24)\n",
      "Getting data from file 1_5_3A.csv with shape (16517, 24)\n",
      "Getting data from file 1_6_05A.csv with shape (16517, 24)\n",
      "Getting data from file 1_6_1A.csv with shape (16517, 24)\n",
      "Getting data from file 1_6_2A.csv with shape (16517, 24)\n",
      "Getting data from file 1_6_3A.csv with shape (16517, 24)\n",
      "Getting data from file 1_7_05A.csv with shape (16517, 24)\n",
      "Getting data from file 1_7_1A.csv with shape (16517, 24)\n",
      "Getting data from file 1_7_2A.csv with shape (16517, 24)\n",
      "Getting data from file 1_7_3A.csv with shape (16517, 24)\n",
      "Getting data from file 1_8_05A.csv with shape (16517, 24)\n",
      "Getting data from file 1_8_1A.csv with shape (16517, 24)\n",
      "Getting data from file 1_8_2A.csv with shape (16517, 24)\n",
      "Getting data from file 1_8_3A.csv with shape (16517, 24)\n",
      "Getting data from file 1_9_05A.csv with shape (16517, 24)\n",
      "Getting data from file 1_9_1A.csv with shape (16517, 24)\n",
      "Getting data from file 1_9_2A.csv with shape (16517, 24)\n",
      "Getting data from file 1_9_3A.csv with shape (16517, 24)\n",
      "Reshaping []data with shape (24, 528544) to (2656, 4776), with k=199, len(data[0])/k=528544/199=2656.0 samples\n",
      "Reshaping []data with shape (24, 132136) to (664, 4776), with k=199, len(data[0])/k=132136/199=664.0 samples\n",
      "['3_1_1A.csv', '3_2_1A.csv', '3_3_1A.csv', '3_4_1A.csv', '3_5_1A.csv']\n",
      "Getting data from file 3_1_1A.csv with shape (16517, 24)\n",
      "Getting data from file 3_2_1A.csv with shape (16517, 24)\n",
      "Getting data from file 3_3_1A.csv with shape (16517, 24)\n",
      "Getting data from file 3_4_1A.csv with shape (16517, 24)\n",
      "Getting data from file 3_5_1A.csv with shape (16517, 24)\n",
      "Reshaping []data with shape (24, 82585) to (415, 4776), with k=199, len(data[0])/k=82585/199=415.0 samples\n",
      "['3_1_2A.csv', '3_2_2A.csv', '3_3_2A.csv', '3_4_2A.csv', '3_5_2A.csv']\n",
      "Getting data from file 3_1_2A.csv with shape (16517, 24)\n",
      "Getting data from file 3_2_2A.csv with shape (16517, 24)\n",
      "Getting data from file 3_3_2A.csv with shape (16517, 24)\n",
      "Getting data from file 3_4_2A.csv with shape (16517, 24)\n",
      "Getting data from file 3_5_2A.csv with shape (16517, 24)\n",
      "Reshaping []data with shape (24, 82585) to (415, 4776), with k=199, len(data[0])/k=82585/199=415.0 samples\n",
      "['3_1_3A.csv', '3_2_3A.csv', '3_3_3A.csv', '3_4_3A.csv', '3_5_3A.csv']\n",
      "Getting data from file 3_1_3A.csv with shape (16517, 24)\n",
      "Getting data from file 3_2_3A.csv with shape (16517, 24)\n",
      "Getting data from file 3_3_3A.csv with shape (16517, 24)\n",
      "Getting data from file 3_4_3A.csv with shape (16517, 24)\n",
      "Getting data from file 3_5_3A.csv with shape (16517, 24)\n",
      "Reshaping []data with shape (24, 82585) to (415, 4776), with k=199, len(data[0])/k=82585/199=415.0 samples\n",
      "['3_1_05A.csv', '3_2_05A.csv', '3_3_05A.csv', '3_4_05A.csv', '3_5_05A.csv']\n",
      "Getting data from file 3_1_05A.csv with shape (16517, 24)\n",
      "Getting data from file 3_2_05A.csv with shape (16517, 24)\n",
      "Getting data from file 3_3_05A.csv with shape (16517, 24)\n",
      "Getting data from file 3_4_05A.csv with shape (16517, 24)\n",
      "Getting data from file 3_5_05A.csv with shape (16517, 24)\n",
      "Reshaping []data with shape (24, 82585) to (415, 4776), with k=199, len(data[0])/k=82585/199=415.0 samples\n",
      "['4_1_1A.csv', '4_2_1A.csv', '4_3_1A.csv', '4_4_1A.csv', '4_5_1A.csv']\n",
      "Getting data from file 4_1_1A.csv with shape (16517, 24)\n",
      "Getting data from file 4_2_1A.csv with shape (16517, 24)\n",
      "Getting data from file 4_3_1A.csv with shape (16517, 24)\n",
      "Getting data from file 4_4_1A.csv with shape (16517, 24)\n",
      "Getting data from file 4_5_1A.csv with shape (16517, 24)\n",
      "Reshaping []data with shape (24, 82585) to (415, 4776), with k=199, len(data[0])/k=82585/199=415.0 samples\n",
      "['4_1_2A.csv', '4_2_2A.csv', '4_3_2A.csv', '4_4_2A.csv', '4_5_2A.csv']\n",
      "Getting data from file 4_1_2A.csv with shape (16517, 24)\n",
      "Getting data from file 4_2_2A.csv with shape (16517, 24)\n",
      "Getting data from file 4_3_2A.csv with shape (16517, 24)\n",
      "Getting data from file 4_4_2A.csv with shape (16517, 24)\n",
      "Getting data from file 4_5_2A.csv with shape (16517, 24)\n",
      "Reshaping []data with shape (24, 82585) to (415, 4776), with k=199, len(data[0])/k=82585/199=415.0 samples\n",
      "['4_1_3A.csv', '4_2_3A.csv', '4_3_3A.csv', '4_4_3A.csv', '4_5_3A.csv']\n",
      "Getting data from file 4_1_3A.csv with shape (16517, 24)\n",
      "Getting data from file 4_2_3A.csv with shape (16517, 24)\n",
      "Getting data from file 4_3_3A.csv with shape (16517, 24)\n",
      "Getting data from file 4_4_3A.csv with shape (16517, 24)\n",
      "Getting data from file 4_5_3A.csv with shape (16517, 24)\n",
      "Reshaping []data with shape (24, 82585) to (415, 4776), with k=199, len(data[0])/k=82585/199=415.0 samples\n",
      "['4_1_05A.csv', '4_2_05A.csv', '4_3_05A.csv', '4_4_05A.csv', '4_5_05A.csv']\n",
      "Getting data from file 4_1_05A.csv with shape (16517, 24)\n",
      "Getting data from file 4_2_05A.csv with shape (16517, 24)\n",
      "Getting data from file 4_3_05A.csv with shape (16517, 24)\n",
      "Getting data from file 4_4_05A.csv with shape (16517, 24)\n",
      "Getting data from file 4_5_05A.csv with shape (16517, 24)\n",
      "Reshaping []data with shape (24, 82585) to (415, 4776), with k=199, len(data[0])/k=82585/199=415.0 samples\n"
     ]
    }
   ],
   "source": [
    "X_train, X_test, scaler= helpers.get_healthy_matrixes()\n",
    "X_other,_,_= helpers.get_other_matrixes(scaler)"
   ]
  },
  {
   "cell_type": "code",
   "execution_count": 3,
   "id": "3599aca7",
   "metadata": {},
   "outputs": [
    {
     "name": "stderr",
     "output_type": "stream",
     "text": [
      "/home/clara/TFG/final_notebooks/helpers.py:194: RuntimeWarning: divide by zero encountered in log\n",
      "  return np.where(x == 0, 0, x * np.log(x) / np.log(base))\n",
      "/home/clara/TFG/final_notebooks/helpers.py:194: RuntimeWarning: invalid value encountered in multiply\n",
      "  return np.where(x == 0, 0, x * np.log(x) / np.log(base))\n"
     ]
    }
   ],
   "source": [
    "train=helpers.get_features(X_train)\n",
    "test=helpers.get_features(X_test)\n",
    "other=helpers.get_features(X_other)"
   ]
  },
  {
   "cell_type": "code",
   "execution_count": 4,
   "id": "778edf0b",
   "metadata": {},
   "outputs": [],
   "source": [
    "df_train=pd.DataFrame(train,columns=[\"mean\",\"std\",\"kurt\",\"rms\",\"pp\",\"zp\",\"cf\",\"ent\"])\n",
    "df_test=pd.DataFrame(test,columns=[\"mean\",\"std\",\"kurt\",\"rms\",\"pp\",\"zp\",\"cf\",\"ent\"])\n",
    "df_other=pd.DataFrame(other,columns=[\"mean\",\"std\",\"kurt\",\"rms\",\"pp\",\"zp\",\"cf\",\"ent\"])"
   ]
  },
  {
   "cell_type": "code",
   "execution_count": 5,
   "id": "823a312b",
   "metadata": {},
   "outputs": [],
   "source": [
    "dict_for_test={\"train\":df_train,\"test\":df_test,\"other\":df_other}\n",
    "dict_test_expected={\"train\":1,\"test\":1,\"other\":-1}"
   ]
  },
  {
   "cell_type": "code",
   "execution_count": 6,
   "id": "5c2de1c4",
   "metadata": {},
   "outputs": [],
   "source": [
    "# choose random outliers but store them for repeatable results\n",
    "random_outliers = {}\n",
    "for i in range(2,4):\n",
    "    for params in combinations([\"mean\",\"std\",\"kurt\",\"rms\",\"pp\",\"zp\",\"cf\",\"ent\"], i):\n",
    "        random_outliers[params] = random.sample(dict_for_test[\"other\"][list(params)].values.tolist(),232)"
   ]
  },
  {
   "cell_type": "code",
   "execution_count": 7,
   "id": "04bac6c8",
   "metadata": {},
   "outputs": [
    {
     "name": "stdout",
     "output_type": "stream",
     "text": [
      "Isolation forest ['mean', 'std'], n_estimators = 5\n",
      "Isolation forest ['mean', 'std'], n_estimators = 10\n",
      "Isolation forest ['mean', 'std'], n_estimators = 50\n",
      "Isolation forest ['mean', 'std'], n_estimators = 100\n",
      "Isolation forest ['mean', 'kurt'], n_estimators = 5\n",
      "Isolation forest ['mean', 'kurt'], n_estimators = 10\n",
      "Isolation forest ['mean', 'kurt'], n_estimators = 50\n",
      "Isolation forest ['mean', 'kurt'], n_estimators = 100\n",
      "Isolation forest ['mean', 'rms'], n_estimators = 5\n",
      "Isolation forest ['mean', 'rms'], n_estimators = 10\n",
      "Isolation forest ['mean', 'rms'], n_estimators = 50\n",
      "Isolation forest ['mean', 'rms'], n_estimators = 100\n",
      "Isolation forest ['mean', 'pp'], n_estimators = 5\n",
      "Isolation forest ['mean', 'pp'], n_estimators = 10\n",
      "Isolation forest ['mean', 'pp'], n_estimators = 50\n",
      "Isolation forest ['mean', 'pp'], n_estimators = 100\n",
      "Isolation forest ['mean', 'zp'], n_estimators = 5\n",
      "Isolation forest ['mean', 'zp'], n_estimators = 10\n",
      "Isolation forest ['mean', 'zp'], n_estimators = 50\n",
      "Isolation forest ['mean', 'zp'], n_estimators = 100\n",
      "Isolation forest ['mean', 'cf'], n_estimators = 5\n",
      "Isolation forest ['mean', 'cf'], n_estimators = 10\n",
      "Isolation forest ['mean', 'cf'], n_estimators = 50\n",
      "Isolation forest ['mean', 'cf'], n_estimators = 100\n",
      "Isolation forest ['mean', 'ent'], n_estimators = 5\n",
      "Isolation forest ['mean', 'ent'], n_estimators = 10\n",
      "Isolation forest ['mean', 'ent'], n_estimators = 50\n",
      "Isolation forest ['mean', 'ent'], n_estimators = 100\n",
      "Isolation forest ['std', 'kurt'], n_estimators = 5\n",
      "Isolation forest ['std', 'kurt'], n_estimators = 10\n",
      "Isolation forest ['std', 'kurt'], n_estimators = 50\n",
      "Isolation forest ['std', 'kurt'], n_estimators = 100\n",
      "Isolation forest ['std', 'rms'], n_estimators = 5\n",
      "Isolation forest ['std', 'rms'], n_estimators = 10\n",
      "Isolation forest ['std', 'rms'], n_estimators = 50\n",
      "Isolation forest ['std', 'rms'], n_estimators = 100\n",
      "Isolation forest ['std', 'pp'], n_estimators = 5\n",
      "Isolation forest ['std', 'pp'], n_estimators = 10\n",
      "Isolation forest ['std', 'pp'], n_estimators = 50\n",
      "Isolation forest ['std', 'pp'], n_estimators = 100\n",
      "Isolation forest ['std', 'zp'], n_estimators = 5\n",
      "Isolation forest ['std', 'zp'], n_estimators = 10\n",
      "Isolation forest ['std', 'zp'], n_estimators = 50\n",
      "Isolation forest ['std', 'zp'], n_estimators = 100\n",
      "Isolation forest ['std', 'cf'], n_estimators = 5\n",
      "Isolation forest ['std', 'cf'], n_estimators = 10\n",
      "Isolation forest ['std', 'cf'], n_estimators = 50\n",
      "Isolation forest ['std', 'cf'], n_estimators = 100\n",
      "Isolation forest ['std', 'ent'], n_estimators = 5\n",
      "Isolation forest ['std', 'ent'], n_estimators = 10\n",
      "Isolation forest ['std', 'ent'], n_estimators = 50\n",
      "Isolation forest ['std', 'ent'], n_estimators = 100\n",
      "Isolation forest ['kurt', 'rms'], n_estimators = 5\n",
      "Isolation forest ['kurt', 'rms'], n_estimators = 10\n",
      "Isolation forest ['kurt', 'rms'], n_estimators = 50\n",
      "Isolation forest ['kurt', 'rms'], n_estimators = 100\n",
      "Isolation forest ['kurt', 'pp'], n_estimators = 5\n",
      "Isolation forest ['kurt', 'pp'], n_estimators = 10\n",
      "Isolation forest ['kurt', 'pp'], n_estimators = 50\n",
      "Isolation forest ['kurt', 'pp'], n_estimators = 100\n",
      "Isolation forest ['kurt', 'zp'], n_estimators = 5\n",
      "Isolation forest ['kurt', 'zp'], n_estimators = 10\n",
      "Isolation forest ['kurt', 'zp'], n_estimators = 50\n",
      "Isolation forest ['kurt', 'zp'], n_estimators = 100\n",
      "Isolation forest ['kurt', 'cf'], n_estimators = 5\n",
      "Isolation forest ['kurt', 'cf'], n_estimators = 10\n",
      "Isolation forest ['kurt', 'cf'], n_estimators = 50\n",
      "Isolation forest ['kurt', 'cf'], n_estimators = 100\n",
      "Isolation forest ['kurt', 'ent'], n_estimators = 5\n",
      "Isolation forest ['kurt', 'ent'], n_estimators = 10\n",
      "Isolation forest ['kurt', 'ent'], n_estimators = 50\n",
      "Isolation forest ['kurt', 'ent'], n_estimators = 100\n",
      "Isolation forest ['rms', 'pp'], n_estimators = 5\n",
      "Isolation forest ['rms', 'pp'], n_estimators = 10\n",
      "Isolation forest ['rms', 'pp'], n_estimators = 50\n",
      "Isolation forest ['rms', 'pp'], n_estimators = 100\n",
      "Isolation forest ['rms', 'zp'], n_estimators = 5\n",
      "Isolation forest ['rms', 'zp'], n_estimators = 10\n",
      "Isolation forest ['rms', 'zp'], n_estimators = 50\n",
      "Isolation forest ['rms', 'zp'], n_estimators = 100\n",
      "Isolation forest ['rms', 'cf'], n_estimators = 5\n",
      "Isolation forest ['rms', 'cf'], n_estimators = 10\n",
      "Isolation forest ['rms', 'cf'], n_estimators = 50\n",
      "Isolation forest ['rms', 'cf'], n_estimators = 100\n",
      "Isolation forest ['rms', 'ent'], n_estimators = 5\n",
      "Isolation forest ['rms', 'ent'], n_estimators = 10\n",
      "Isolation forest ['rms', 'ent'], n_estimators = 50\n",
      "Isolation forest ['rms', 'ent'], n_estimators = 100\n",
      "Isolation forest ['pp', 'zp'], n_estimators = 5\n",
      "Isolation forest ['pp', 'zp'], n_estimators = 10\n",
      "Isolation forest ['pp', 'zp'], n_estimators = 50\n",
      "Isolation forest ['pp', 'zp'], n_estimators = 100\n",
      "Isolation forest ['pp', 'cf'], n_estimators = 5\n",
      "Isolation forest ['pp', 'cf'], n_estimators = 10\n",
      "Isolation forest ['pp', 'cf'], n_estimators = 50\n",
      "Isolation forest ['pp', 'cf'], n_estimators = 100\n",
      "Isolation forest ['pp', 'ent'], n_estimators = 5\n",
      "Isolation forest ['pp', 'ent'], n_estimators = 10\n",
      "Isolation forest ['pp', 'ent'], n_estimators = 50\n",
      "Isolation forest ['pp', 'ent'], n_estimators = 100\n",
      "Isolation forest ['zp', 'cf'], n_estimators = 5\n",
      "Isolation forest ['zp', 'cf'], n_estimators = 10\n",
      "Isolation forest ['zp', 'cf'], n_estimators = 50\n",
      "Isolation forest ['zp', 'cf'], n_estimators = 100\n",
      "Isolation forest ['zp', 'ent'], n_estimators = 5\n",
      "Isolation forest ['zp', 'ent'], n_estimators = 10\n",
      "Isolation forest ['zp', 'ent'], n_estimators = 50\n",
      "Isolation forest ['zp', 'ent'], n_estimators = 100\n",
      "Isolation forest ['cf', 'ent'], n_estimators = 5\n",
      "Isolation forest ['cf', 'ent'], n_estimators = 10\n",
      "Isolation forest ['cf', 'ent'], n_estimators = 50\n",
      "Isolation forest ['cf', 'ent'], n_estimators = 100\n",
      "Isolation forest ['mean', 'std', 'kurt'], n_estimators = 5\n",
      "Isolation forest ['mean', 'std', 'kurt'], n_estimators = 10\n",
      "Isolation forest ['mean', 'std', 'kurt'], n_estimators = 50\n",
      "Isolation forest ['mean', 'std', 'kurt'], n_estimators = 100\n",
      "Isolation forest ['mean', 'std', 'rms'], n_estimators = 5\n",
      "Isolation forest ['mean', 'std', 'rms'], n_estimators = 10\n",
      "Isolation forest ['mean', 'std', 'rms'], n_estimators = 50\n",
      "Isolation forest ['mean', 'std', 'rms'], n_estimators = 100\n",
      "Isolation forest ['mean', 'std', 'pp'], n_estimators = 5\n",
      "Isolation forest ['mean', 'std', 'pp'], n_estimators = 10\n",
      "Isolation forest ['mean', 'std', 'pp'], n_estimators = 50\n",
      "Isolation forest ['mean', 'std', 'pp'], n_estimators = 100\n",
      "Isolation forest ['mean', 'std', 'zp'], n_estimators = 5\n",
      "Isolation forest ['mean', 'std', 'zp'], n_estimators = 10\n",
      "Isolation forest ['mean', 'std', 'zp'], n_estimators = 50\n",
      "Isolation forest ['mean', 'std', 'zp'], n_estimators = 100\n",
      "Isolation forest ['mean', 'std', 'cf'], n_estimators = 5\n",
      "Isolation forest ['mean', 'std', 'cf'], n_estimators = 10\n",
      "Isolation forest ['mean', 'std', 'cf'], n_estimators = 50\n",
      "Isolation forest ['mean', 'std', 'cf'], n_estimators = 100\n",
      "Isolation forest ['mean', 'std', 'ent'], n_estimators = 5\n",
      "Isolation forest ['mean', 'std', 'ent'], n_estimators = 10\n",
      "Isolation forest ['mean', 'std', 'ent'], n_estimators = 50\n",
      "Isolation forest ['mean', 'std', 'ent'], n_estimators = 100\n",
      "Isolation forest ['mean', 'kurt', 'rms'], n_estimators = 5\n",
      "Isolation forest ['mean', 'kurt', 'rms'], n_estimators = 10\n",
      "Isolation forest ['mean', 'kurt', 'rms'], n_estimators = 50\n",
      "Isolation forest ['mean', 'kurt', 'rms'], n_estimators = 100\n",
      "Isolation forest ['mean', 'kurt', 'pp'], n_estimators = 5\n",
      "Isolation forest ['mean', 'kurt', 'pp'], n_estimators = 10\n",
      "Isolation forest ['mean', 'kurt', 'pp'], n_estimators = 50\n",
      "Isolation forest ['mean', 'kurt', 'pp'], n_estimators = 100\n",
      "Isolation forest ['mean', 'kurt', 'zp'], n_estimators = 5\n",
      "Isolation forest ['mean', 'kurt', 'zp'], n_estimators = 10\n",
      "Isolation forest ['mean', 'kurt', 'zp'], n_estimators = 50\n",
      "Isolation forest ['mean', 'kurt', 'zp'], n_estimators = 100\n",
      "Isolation forest ['mean', 'kurt', 'cf'], n_estimators = 5\n",
      "Isolation forest ['mean', 'kurt', 'cf'], n_estimators = 10\n",
      "Isolation forest ['mean', 'kurt', 'cf'], n_estimators = 50\n",
      "Isolation forest ['mean', 'kurt', 'cf'], n_estimators = 100\n",
      "Isolation forest ['mean', 'kurt', 'ent'], n_estimators = 5\n",
      "Isolation forest ['mean', 'kurt', 'ent'], n_estimators = 10\n",
      "Isolation forest ['mean', 'kurt', 'ent'], n_estimators = 50\n"
     ]
    },
    {
     "name": "stdout",
     "output_type": "stream",
     "text": [
      "Isolation forest ['mean', 'kurt', 'ent'], n_estimators = 100\n",
      "Isolation forest ['mean', 'rms', 'pp'], n_estimators = 5\n",
      "Isolation forest ['mean', 'rms', 'pp'], n_estimators = 10\n",
      "Isolation forest ['mean', 'rms', 'pp'], n_estimators = 50\n",
      "Isolation forest ['mean', 'rms', 'pp'], n_estimators = 100\n",
      "Isolation forest ['mean', 'rms', 'zp'], n_estimators = 5\n",
      "Isolation forest ['mean', 'rms', 'zp'], n_estimators = 10\n",
      "Isolation forest ['mean', 'rms', 'zp'], n_estimators = 50\n",
      "Isolation forest ['mean', 'rms', 'zp'], n_estimators = 100\n",
      "Isolation forest ['mean', 'rms', 'cf'], n_estimators = 5\n",
      "Isolation forest ['mean', 'rms', 'cf'], n_estimators = 10\n",
      "Isolation forest ['mean', 'rms', 'cf'], n_estimators = 50\n",
      "Isolation forest ['mean', 'rms', 'cf'], n_estimators = 100\n",
      "Isolation forest ['mean', 'rms', 'ent'], n_estimators = 5\n",
      "Isolation forest ['mean', 'rms', 'ent'], n_estimators = 10\n",
      "Isolation forest ['mean', 'rms', 'ent'], n_estimators = 50\n",
      "Isolation forest ['mean', 'rms', 'ent'], n_estimators = 100\n",
      "Isolation forest ['mean', 'pp', 'zp'], n_estimators = 5\n",
      "Isolation forest ['mean', 'pp', 'zp'], n_estimators = 10\n",
      "Isolation forest ['mean', 'pp', 'zp'], n_estimators = 50\n",
      "Isolation forest ['mean', 'pp', 'zp'], n_estimators = 100\n",
      "Isolation forest ['mean', 'pp', 'cf'], n_estimators = 5\n",
      "Isolation forest ['mean', 'pp', 'cf'], n_estimators = 10\n",
      "Isolation forest ['mean', 'pp', 'cf'], n_estimators = 50\n",
      "Isolation forest ['mean', 'pp', 'cf'], n_estimators = 100\n",
      "Isolation forest ['mean', 'pp', 'ent'], n_estimators = 5\n",
      "Isolation forest ['mean', 'pp', 'ent'], n_estimators = 10\n",
      "Isolation forest ['mean', 'pp', 'ent'], n_estimators = 50\n",
      "Isolation forest ['mean', 'pp', 'ent'], n_estimators = 100\n",
      "Isolation forest ['mean', 'zp', 'cf'], n_estimators = 5\n",
      "Isolation forest ['mean', 'zp', 'cf'], n_estimators = 10\n",
      "Isolation forest ['mean', 'zp', 'cf'], n_estimators = 50\n",
      "Isolation forest ['mean', 'zp', 'cf'], n_estimators = 100\n",
      "Isolation forest ['mean', 'zp', 'ent'], n_estimators = 5\n",
      "Isolation forest ['mean', 'zp', 'ent'], n_estimators = 10\n",
      "Isolation forest ['mean', 'zp', 'ent'], n_estimators = 50\n",
      "Isolation forest ['mean', 'zp', 'ent'], n_estimators = 100\n",
      "Isolation forest ['mean', 'cf', 'ent'], n_estimators = 5\n",
      "Isolation forest ['mean', 'cf', 'ent'], n_estimators = 10\n",
      "Isolation forest ['mean', 'cf', 'ent'], n_estimators = 50\n",
      "Isolation forest ['mean', 'cf', 'ent'], n_estimators = 100\n",
      "Isolation forest ['std', 'kurt', 'rms'], n_estimators = 5\n",
      "Isolation forest ['std', 'kurt', 'rms'], n_estimators = 10\n",
      "Isolation forest ['std', 'kurt', 'rms'], n_estimators = 50\n",
      "Isolation forest ['std', 'kurt', 'rms'], n_estimators = 100\n",
      "Isolation forest ['std', 'kurt', 'pp'], n_estimators = 5\n",
      "Isolation forest ['std', 'kurt', 'pp'], n_estimators = 10\n",
      "Isolation forest ['std', 'kurt', 'pp'], n_estimators = 50\n",
      "Isolation forest ['std', 'kurt', 'pp'], n_estimators = 100\n",
      "Isolation forest ['std', 'kurt', 'zp'], n_estimators = 5\n",
      "Isolation forest ['std', 'kurt', 'zp'], n_estimators = 10\n",
      "Isolation forest ['std', 'kurt', 'zp'], n_estimators = 50\n",
      "Isolation forest ['std', 'kurt', 'zp'], n_estimators = 100\n",
      "Isolation forest ['std', 'kurt', 'cf'], n_estimators = 5\n",
      "Isolation forest ['std', 'kurt', 'cf'], n_estimators = 10\n",
      "Isolation forest ['std', 'kurt', 'cf'], n_estimators = 50\n",
      "Isolation forest ['std', 'kurt', 'cf'], n_estimators = 100\n",
      "Isolation forest ['std', 'kurt', 'ent'], n_estimators = 5\n",
      "Isolation forest ['std', 'kurt', 'ent'], n_estimators = 10\n",
      "Isolation forest ['std', 'kurt', 'ent'], n_estimators = 50\n",
      "Isolation forest ['std', 'kurt', 'ent'], n_estimators = 100\n",
      "Isolation forest ['std', 'rms', 'pp'], n_estimators = 5\n",
      "Isolation forest ['std', 'rms', 'pp'], n_estimators = 10\n",
      "Isolation forest ['std', 'rms', 'pp'], n_estimators = 50\n",
      "Isolation forest ['std', 'rms', 'pp'], n_estimators = 100\n",
      "Isolation forest ['std', 'rms', 'zp'], n_estimators = 5\n",
      "Isolation forest ['std', 'rms', 'zp'], n_estimators = 10\n",
      "Isolation forest ['std', 'rms', 'zp'], n_estimators = 50\n",
      "Isolation forest ['std', 'rms', 'zp'], n_estimators = 100\n",
      "Isolation forest ['std', 'rms', 'cf'], n_estimators = 5\n",
      "Isolation forest ['std', 'rms', 'cf'], n_estimators = 10\n",
      "Isolation forest ['std', 'rms', 'cf'], n_estimators = 50\n",
      "Isolation forest ['std', 'rms', 'cf'], n_estimators = 100\n",
      "Isolation forest ['std', 'rms', 'ent'], n_estimators = 5\n",
      "Isolation forest ['std', 'rms', 'ent'], n_estimators = 10\n",
      "Isolation forest ['std', 'rms', 'ent'], n_estimators = 50\n",
      "Isolation forest ['std', 'rms', 'ent'], n_estimators = 100\n",
      "Isolation forest ['std', 'pp', 'zp'], n_estimators = 5\n",
      "Isolation forest ['std', 'pp', 'zp'], n_estimators = 10\n",
      "Isolation forest ['std', 'pp', 'zp'], n_estimators = 50\n",
      "Isolation forest ['std', 'pp', 'zp'], n_estimators = 100\n",
      "Isolation forest ['std', 'pp', 'cf'], n_estimators = 5\n",
      "Isolation forest ['std', 'pp', 'cf'], n_estimators = 10\n",
      "Isolation forest ['std', 'pp', 'cf'], n_estimators = 50\n",
      "Isolation forest ['std', 'pp', 'cf'], n_estimators = 100\n",
      "Isolation forest ['std', 'pp', 'ent'], n_estimators = 5\n",
      "Isolation forest ['std', 'pp', 'ent'], n_estimators = 10\n",
      "Isolation forest ['std', 'pp', 'ent'], n_estimators = 50\n",
      "Isolation forest ['std', 'pp', 'ent'], n_estimators = 100\n",
      "Isolation forest ['std', 'zp', 'cf'], n_estimators = 5\n",
      "Isolation forest ['std', 'zp', 'cf'], n_estimators = 10\n",
      "Isolation forest ['std', 'zp', 'cf'], n_estimators = 50\n",
      "Isolation forest ['std', 'zp', 'cf'], n_estimators = 100\n",
      "Isolation forest ['std', 'zp', 'ent'], n_estimators = 5\n",
      "Isolation forest ['std', 'zp', 'ent'], n_estimators = 10\n",
      "Isolation forest ['std', 'zp', 'ent'], n_estimators = 50\n",
      "Isolation forest ['std', 'zp', 'ent'], n_estimators = 100\n",
      "Isolation forest ['std', 'cf', 'ent'], n_estimators = 5\n",
      "Isolation forest ['std', 'cf', 'ent'], n_estimators = 10\n",
      "Isolation forest ['std', 'cf', 'ent'], n_estimators = 50\n",
      "Isolation forest ['std', 'cf', 'ent'], n_estimators = 100\n",
      "Isolation forest ['kurt', 'rms', 'pp'], n_estimators = 5\n",
      "Isolation forest ['kurt', 'rms', 'pp'], n_estimators = 10\n",
      "Isolation forest ['kurt', 'rms', 'pp'], n_estimators = 50\n",
      "Isolation forest ['kurt', 'rms', 'pp'], n_estimators = 100\n",
      "Isolation forest ['kurt', 'rms', 'zp'], n_estimators = 5\n",
      "Isolation forest ['kurt', 'rms', 'zp'], n_estimators = 10\n",
      "Isolation forest ['kurt', 'rms', 'zp'], n_estimators = 50\n",
      "Isolation forest ['kurt', 'rms', 'zp'], n_estimators = 100\n",
      "Isolation forest ['kurt', 'rms', 'cf'], n_estimators = 5\n",
      "Isolation forest ['kurt', 'rms', 'cf'], n_estimators = 10\n",
      "Isolation forest ['kurt', 'rms', 'cf'], n_estimators = 50\n",
      "Isolation forest ['kurt', 'rms', 'cf'], n_estimators = 100\n",
      "Isolation forest ['kurt', 'rms', 'ent'], n_estimators = 5\n",
      "Isolation forest ['kurt', 'rms', 'ent'], n_estimators = 10\n",
      "Isolation forest ['kurt', 'rms', 'ent'], n_estimators = 50\n",
      "Isolation forest ['kurt', 'rms', 'ent'], n_estimators = 100\n",
      "Isolation forest ['kurt', 'pp', 'zp'], n_estimators = 5\n",
      "Isolation forest ['kurt', 'pp', 'zp'], n_estimators = 10\n",
      "Isolation forest ['kurt', 'pp', 'zp'], n_estimators = 50\n",
      "Isolation forest ['kurt', 'pp', 'zp'], n_estimators = 100\n",
      "Isolation forest ['kurt', 'pp', 'cf'], n_estimators = 5\n",
      "Isolation forest ['kurt', 'pp', 'cf'], n_estimators = 10\n",
      "Isolation forest ['kurt', 'pp', 'cf'], n_estimators = 50\n",
      "Isolation forest ['kurt', 'pp', 'cf'], n_estimators = 100\n",
      "Isolation forest ['kurt', 'pp', 'ent'], n_estimators = 5\n",
      "Isolation forest ['kurt', 'pp', 'ent'], n_estimators = 10\n",
      "Isolation forest ['kurt', 'pp', 'ent'], n_estimators = 50\n",
      "Isolation forest ['kurt', 'pp', 'ent'], n_estimators = 100\n",
      "Isolation forest ['kurt', 'zp', 'cf'], n_estimators = 5\n",
      "Isolation forest ['kurt', 'zp', 'cf'], n_estimators = 10\n",
      "Isolation forest ['kurt', 'zp', 'cf'], n_estimators = 50\n",
      "Isolation forest ['kurt', 'zp', 'cf'], n_estimators = 100\n",
      "Isolation forest ['kurt', 'zp', 'ent'], n_estimators = 5\n",
      "Isolation forest ['kurt', 'zp', 'ent'], n_estimators = 10\n",
      "Isolation forest ['kurt', 'zp', 'ent'], n_estimators = 50\n",
      "Isolation forest ['kurt', 'zp', 'ent'], n_estimators = 100\n",
      "Isolation forest ['kurt', 'cf', 'ent'], n_estimators = 5\n",
      "Isolation forest ['kurt', 'cf', 'ent'], n_estimators = 10\n",
      "Isolation forest ['kurt', 'cf', 'ent'], n_estimators = 50\n",
      "Isolation forest ['kurt', 'cf', 'ent'], n_estimators = 100\n",
      "Isolation forest ['rms', 'pp', 'zp'], n_estimators = 5\n",
      "Isolation forest ['rms', 'pp', 'zp'], n_estimators = 10\n"
     ]
    },
    {
     "name": "stdout",
     "output_type": "stream",
     "text": [
      "Isolation forest ['rms', 'pp', 'zp'], n_estimators = 50\n",
      "Isolation forest ['rms', 'pp', 'zp'], n_estimators = 100\n",
      "Isolation forest ['rms', 'pp', 'cf'], n_estimators = 5\n",
      "Isolation forest ['rms', 'pp', 'cf'], n_estimators = 10\n",
      "Isolation forest ['rms', 'pp', 'cf'], n_estimators = 50\n",
      "Isolation forest ['rms', 'pp', 'cf'], n_estimators = 100\n",
      "Isolation forest ['rms', 'pp', 'ent'], n_estimators = 5\n",
      "Isolation forest ['rms', 'pp', 'ent'], n_estimators = 10\n",
      "Isolation forest ['rms', 'pp', 'ent'], n_estimators = 50\n",
      "Isolation forest ['rms', 'pp', 'ent'], n_estimators = 100\n",
      "Isolation forest ['rms', 'zp', 'cf'], n_estimators = 5\n",
      "Isolation forest ['rms', 'zp', 'cf'], n_estimators = 10\n",
      "Isolation forest ['rms', 'zp', 'cf'], n_estimators = 50\n",
      "Isolation forest ['rms', 'zp', 'cf'], n_estimators = 100\n",
      "Isolation forest ['rms', 'zp', 'ent'], n_estimators = 5\n",
      "Isolation forest ['rms', 'zp', 'ent'], n_estimators = 10\n",
      "Isolation forest ['rms', 'zp', 'ent'], n_estimators = 50\n",
      "Isolation forest ['rms', 'zp', 'ent'], n_estimators = 100\n",
      "Isolation forest ['rms', 'cf', 'ent'], n_estimators = 5\n",
      "Isolation forest ['rms', 'cf', 'ent'], n_estimators = 10\n",
      "Isolation forest ['rms', 'cf', 'ent'], n_estimators = 50\n",
      "Isolation forest ['rms', 'cf', 'ent'], n_estimators = 100\n",
      "Isolation forest ['pp', 'zp', 'cf'], n_estimators = 5\n",
      "Isolation forest ['pp', 'zp', 'cf'], n_estimators = 10\n",
      "Isolation forest ['pp', 'zp', 'cf'], n_estimators = 50\n",
      "Isolation forest ['pp', 'zp', 'cf'], n_estimators = 100\n",
      "Isolation forest ['pp', 'zp', 'ent'], n_estimators = 5\n",
      "Isolation forest ['pp', 'zp', 'ent'], n_estimators = 10\n",
      "Isolation forest ['pp', 'zp', 'ent'], n_estimators = 50\n",
      "Isolation forest ['pp', 'zp', 'ent'], n_estimators = 100\n",
      "Isolation forest ['pp', 'cf', 'ent'], n_estimators = 5\n",
      "Isolation forest ['pp', 'cf', 'ent'], n_estimators = 10\n",
      "Isolation forest ['pp', 'cf', 'ent'], n_estimators = 50\n",
      "Isolation forest ['pp', 'cf', 'ent'], n_estimators = 100\n",
      "Isolation forest ['zp', 'cf', 'ent'], n_estimators = 5\n",
      "Isolation forest ['zp', 'cf', 'ent'], n_estimators = 10\n",
      "Isolation forest ['zp', 'cf', 'ent'], n_estimators = 50\n",
      "Isolation forest ['zp', 'cf', 'ent'], n_estimators = 100\n"
     ]
    }
   ],
   "source": [
    "estimators_l, acc_l, params_l = [], [], []\n",
    "for i in range(2,4):\n",
    "    for params in combinations([\"mean\",\"std\",\"kurt\",\"rms\",\"pp\",\"zp\",\"cf\",\"ent\"], i):\n",
    "        for estimators in [5,10, 50, 100]:\n",
    "                results, cm, acc = helpers.train_predict_Isolation_noshow(df_train, dict_for_test, dict_test_expected,list(params), random_outliers[params], estimators)\n",
    "                estimators_l.append(estimators)\n",
    "                acc_l.append(acc)\n",
    "                params_l.append(params)\n",
    "res_rbf = pd.DataFrame({\"params\": params_l, \"estimators\": estimators_l, \"accuracy\": acc_l})"
   ]
  },
  {
   "cell_type": "code",
   "execution_count": 8,
   "id": "ff57fda0",
   "metadata": {},
   "outputs": [],
   "source": [
    "res_rbf = pd.DataFrame({\"params\": params_l, \"estimators\": estimators_l, \"accuracy\": acc_l})"
   ]
  },
  {
   "cell_type": "code",
   "execution_count": 9,
   "id": "8a7cd433",
   "metadata": {},
   "outputs": [
    {
     "data": {
      "text/html": [
       "<div>\n",
       "<style scoped>\n",
       "    .dataframe tbody tr th:only-of-type {\n",
       "        vertical-align: middle;\n",
       "    }\n",
       "\n",
       "    .dataframe tbody tr th {\n",
       "        vertical-align: top;\n",
       "    }\n",
       "\n",
       "    .dataframe thead th {\n",
       "        text-align: right;\n",
       "    }\n",
       "</style>\n",
       "<table border=\"1\" class=\"dataframe\">\n",
       "  <thead>\n",
       "    <tr style=\"text-align: right;\">\n",
       "      <th></th>\n",
       "      <th>estimators</th>\n",
       "      <th>accuracy</th>\n",
       "    </tr>\n",
       "  </thead>\n",
       "  <tbody>\n",
       "    <tr>\n",
       "      <th>count</th>\n",
       "      <td>336.000000</td>\n",
       "      <td>336.000000</td>\n",
       "    </tr>\n",
       "    <tr>\n",
       "      <th>mean</th>\n",
       "      <td>41.250000</td>\n",
       "      <td>0.931172</td>\n",
       "    </tr>\n",
       "    <tr>\n",
       "      <th>std</th>\n",
       "      <td>38.197249</td>\n",
       "      <td>0.062966</td>\n",
       "    </tr>\n",
       "    <tr>\n",
       "      <th>min</th>\n",
       "      <td>5.000000</td>\n",
       "      <td>0.701205</td>\n",
       "    </tr>\n",
       "    <tr>\n",
       "      <th>25%</th>\n",
       "      <td>8.750000</td>\n",
       "      <td>0.877523</td>\n",
       "    </tr>\n",
       "    <tr>\n",
       "      <th>50%</th>\n",
       "      <td>30.000000</td>\n",
       "      <td>0.947967</td>\n",
       "    </tr>\n",
       "    <tr>\n",
       "      <th>75%</th>\n",
       "      <td>62.500000</td>\n",
       "      <td>0.987274</td>\n",
       "    </tr>\n",
       "    <tr>\n",
       "      <th>max</th>\n",
       "      <td>100.000000</td>\n",
       "      <td>1.000000</td>\n",
       "    </tr>\n",
       "  </tbody>\n",
       "</table>\n",
       "</div>"
      ],
      "text/plain": [
       "       estimators    accuracy\n",
       "count  336.000000  336.000000\n",
       "mean    41.250000    0.931172\n",
       "std     38.197249    0.062966\n",
       "min      5.000000    0.701205\n",
       "25%      8.750000    0.877523\n",
       "50%     30.000000    0.947967\n",
       "75%     62.500000    0.987274\n",
       "max    100.000000    1.000000"
      ]
     },
     "execution_count": 9,
     "metadata": {},
     "output_type": "execute_result"
    }
   ],
   "source": [
    "res_rbf.describe()"
   ]
  },
  {
   "cell_type": "code",
   "execution_count": 10,
   "id": "5f549fbf",
   "metadata": {},
   "outputs": [
    {
     "data": {
      "text/plain": [
       "<matplotlib.collections.PathCollection at 0x7ff0edfd8b80>"
      ]
     },
     "execution_count": 10,
     "metadata": {},
     "output_type": "execute_result"
    },
    {
     "data": {
      "image/png": "[encoded data removed]",
      "text/plain": [
       "<Figure size 864x504 with 1 Axes>"
      ]
     },
     "metadata": {
      "needs_background": "light"
     },
     "output_type": "display_data"
    }
   ],
   "source": [
    "plt.scatter(res_rbf[\"estimators\"],res_rbf[\"accuracy\"])"
   ]
  },
  {
   "cell_type": "code",
   "execution_count": 11,
   "id": "0de54853",
   "metadata": {},
   "outputs": [
    {
     "data": {
      "text/html": [
       "<div>\n",
       "<style scoped>\n",
       "    .dataframe tbody tr th:only-of-type {\n",
       "        vertical-align: middle;\n",
       "    }\n",
       "\n",
       "    .dataframe tbody tr th {\n",
       "        vertical-align: top;\n",
       "    }\n",
       "\n",
       "    .dataframe thead th {\n",
       "        text-align: right;\n",
       "    }\n",
       "</style>\n",
       "<table border=\"1\" class=\"dataframe\">\n",
       "  <thead>\n",
       "    <tr style=\"text-align: right;\">\n",
       "      <th></th>\n",
       "      <th>params</th>\n",
       "      <th>estimators</th>\n",
       "      <th>accuracy</th>\n",
       "    </tr>\n",
       "  </thead>\n",
       "  <tbody>\n",
       "    <tr>\n",
       "      <th>214</th>\n",
       "      <td>(std, kurt, ent)</td>\n",
       "      <td>50</td>\n",
       "      <td>1.000000</td>\n",
       "    </tr>\n",
       "    <tr>\n",
       "      <th>315</th>\n",
       "      <td>(rms, zp, ent)</td>\n",
       "      <td>100</td>\n",
       "      <td>1.000000</td>\n",
       "    </tr>\n",
       "    <tr>\n",
       "      <th>251</th>\n",
       "      <td>(std, zp, ent)</td>\n",
       "      <td>100</td>\n",
       "      <td>1.000000</td>\n",
       "    </tr>\n",
       "    <tr>\n",
       "      <th>243</th>\n",
       "      <td>(std, pp, ent)</td>\n",
       "      <td>100</td>\n",
       "      <td>1.000000</td>\n",
       "    </tr>\n",
       "    <tr>\n",
       "      <th>170</th>\n",
       "      <td>(mean, rms, ent)</td>\n",
       "      <td>50</td>\n",
       "      <td>1.000000</td>\n",
       "    </tr>\n",
       "    <tr>\n",
       "      <th>155</th>\n",
       "      <td>(mean, kurt, ent)</td>\n",
       "      <td>100</td>\n",
       "      <td>1.000000</td>\n",
       "    </tr>\n",
       "    <tr>\n",
       "      <th>70</th>\n",
       "      <td>(kurt, ent)</td>\n",
       "      <td>50</td>\n",
       "      <td>1.000000</td>\n",
       "    </tr>\n",
       "    <tr>\n",
       "      <th>71</th>\n",
       "      <td>(kurt, ent)</td>\n",
       "      <td>100</td>\n",
       "      <td>1.000000</td>\n",
       "    </tr>\n",
       "    <tr>\n",
       "      <th>215</th>\n",
       "      <td>(std, kurt, ent)</td>\n",
       "      <td>100</td>\n",
       "      <td>1.000000</td>\n",
       "    </tr>\n",
       "    <tr>\n",
       "      <th>154</th>\n",
       "      <td>(mean, kurt, ent)</td>\n",
       "      <td>50</td>\n",
       "      <td>1.000000</td>\n",
       "    </tr>\n",
       "    <tr>\n",
       "      <th>171</th>\n",
       "      <td>(mean, rms, ent)</td>\n",
       "      <td>100</td>\n",
       "      <td>1.000000</td>\n",
       "    </tr>\n",
       "    <tr>\n",
       "      <th>153</th>\n",
       "      <td>(mean, kurt, ent)</td>\n",
       "      <td>10</td>\n",
       "      <td>1.000000</td>\n",
       "    </tr>\n",
       "    <tr>\n",
       "      <th>314</th>\n",
       "      <td>(rms, zp, ent)</td>\n",
       "      <td>50</td>\n",
       "      <td>1.000000</td>\n",
       "    </tr>\n",
       "    <tr>\n",
       "      <th>50</th>\n",
       "      <td>(std, ent)</td>\n",
       "      <td>50</td>\n",
       "      <td>1.000000</td>\n",
       "    </tr>\n",
       "    <tr>\n",
       "      <th>134</th>\n",
       "      <td>(mean, std, ent)</td>\n",
       "      <td>50</td>\n",
       "      <td>1.000000</td>\n",
       "    </tr>\n",
       "    <tr>\n",
       "      <th>135</th>\n",
       "      <td>(mean, std, ent)</td>\n",
       "      <td>100</td>\n",
       "      <td>1.000000</td>\n",
       "    </tr>\n",
       "    <tr>\n",
       "      <th>87</th>\n",
       "      <td>(rms, ent)</td>\n",
       "      <td>100</td>\n",
       "      <td>1.000000</td>\n",
       "    </tr>\n",
       "    <tr>\n",
       "      <th>86</th>\n",
       "      <td>(rms, ent)</td>\n",
       "      <td>50</td>\n",
       "      <td>1.000000</td>\n",
       "    </tr>\n",
       "    <tr>\n",
       "      <th>271</th>\n",
       "      <td>(kurt, rms, ent)</td>\n",
       "      <td>100</td>\n",
       "      <td>0.999849</td>\n",
       "    </tr>\n",
       "    <tr>\n",
       "      <th>270</th>\n",
       "      <td>(kurt, rms, ent)</td>\n",
       "      <td>50</td>\n",
       "      <td>0.999849</td>\n",
       "    </tr>\n",
       "    <tr>\n",
       "      <th>133</th>\n",
       "      <td>(mean, std, ent)</td>\n",
       "      <td>10</td>\n",
       "      <td>0.999699</td>\n",
       "    </tr>\n",
       "    <tr>\n",
       "      <th>152</th>\n",
       "      <td>(mean, kurt, ent)</td>\n",
       "      <td>5</td>\n",
       "      <td>0.999699</td>\n",
       "    </tr>\n",
       "    <tr>\n",
       "      <th>139</th>\n",
       "      <td>(mean, kurt, rms)</td>\n",
       "      <td>100</td>\n",
       "      <td>0.999548</td>\n",
       "    </tr>\n",
       "    <tr>\n",
       "      <th>138</th>\n",
       "      <td>(mean, kurt, rms)</td>\n",
       "      <td>50</td>\n",
       "      <td>0.999548</td>\n",
       "    </tr>\n",
       "    <tr>\n",
       "      <th>183</th>\n",
       "      <td>(mean, pp, ent)</td>\n",
       "      <td>100</td>\n",
       "      <td>0.999247</td>\n",
       "    </tr>\n",
       "    <tr>\n",
       "      <th>137</th>\n",
       "      <td>(mean, kurt, rms)</td>\n",
       "      <td>10</td>\n",
       "      <td>0.998946</td>\n",
       "    </tr>\n",
       "    <tr>\n",
       "      <th>68</th>\n",
       "      <td>(kurt, ent)</td>\n",
       "      <td>5</td>\n",
       "      <td>0.998494</td>\n",
       "    </tr>\n",
       "    <tr>\n",
       "      <th>85</th>\n",
       "      <td>(rms, ent)</td>\n",
       "      <td>10</td>\n",
       "      <td>0.998343</td>\n",
       "    </tr>\n",
       "    <tr>\n",
       "      <th>115</th>\n",
       "      <td>(mean, std, kurt)</td>\n",
       "      <td>100</td>\n",
       "      <td>0.998343</td>\n",
       "    </tr>\n",
       "    <tr>\n",
       "      <th>182</th>\n",
       "      <td>(mean, pp, ent)</td>\n",
       "      <td>50</td>\n",
       "      <td>0.998193</td>\n",
       "    </tr>\n",
       "  </tbody>\n",
       "</table>\n",
       "</div>"
      ],
      "text/plain": [
       "                params  estimators  accuracy\n",
       "214   (std, kurt, ent)          50  1.000000\n",
       "315     (rms, zp, ent)         100  1.000000\n",
       "251     (std, zp, ent)         100  1.000000\n",
       "243     (std, pp, ent)         100  1.000000\n",
       "170   (mean, rms, ent)          50  1.000000\n",
       "155  (mean, kurt, ent)         100  1.000000\n",
       "70         (kurt, ent)          50  1.000000\n",
       "71         (kurt, ent)         100  1.000000\n",
       "215   (std, kurt, ent)         100  1.000000\n",
       "154  (mean, kurt, ent)          50  1.000000\n",
       "171   (mean, rms, ent)         100  1.000000\n",
       "153  (mean, kurt, ent)          10  1.000000\n",
       "314     (rms, zp, ent)          50  1.000000\n",
       "50          (std, ent)          50  1.000000\n",
       "134   (mean, std, ent)          50  1.000000\n",
       "135   (mean, std, ent)         100  1.000000\n",
       "87          (rms, ent)         100  1.000000\n",
       "86          (rms, ent)          50  1.000000\n",
       "271   (kurt, rms, ent)         100  0.999849\n",
       "270   (kurt, rms, ent)          50  0.999849\n",
       "133   (mean, std, ent)          10  0.999699\n",
       "152  (mean, kurt, ent)           5  0.999699\n",
       "139  (mean, kurt, rms)         100  0.999548\n",
       "138  (mean, kurt, rms)          50  0.999548\n",
       "183    (mean, pp, ent)         100  0.999247\n",
       "137  (mean, kurt, rms)          10  0.998946\n",
       "68         (kurt, ent)           5  0.998494\n",
       "85          (rms, ent)          10  0.998343\n",
       "115  (mean, std, kurt)         100  0.998343\n",
       "182    (mean, pp, ent)          50  0.998193"
      ]
     },
     "execution_count": 11,
     "metadata": {},
     "output_type": "execute_result"
    }
   ],
   "source": [
    "res_rbf.sort_values(by=\"accuracy\", ascending=False)[0:30]"
   ]
  },
  {
   "cell_type": "code",
   "execution_count": 12,
   "id": "3c740c0b",
   "metadata": {},
   "outputs": [
    {
     "name": "stdout",
     "output_type": "stream",
     "text": [
      "Isolation forest ['kurt', 'ent'], n_estimators = 100\n"
     ]
    }
   ],
   "source": [
    "results, cm, acc = helpers.train_predict_Isolation_noshow(df_train, dict_for_test, dict_test_expected,[\"kurt\",\"ent\"],random_outliers[(\"kurt\",\"ent\")], 100)"
   ]
  },
  {
   "cell_type": "code",
   "execution_count": 13,
   "id": "6d2dcd43",
   "metadata": {
    "scrolled": true
   },
   "outputs": [
    {
     "data": {
      "text/plain": [
       "array([[3320,    0],\n",
       "       [   0, 3320]])"
      ]
     },
     "execution_count": 13,
     "metadata": {},
     "output_type": "execute_result"
    }
   ],
   "source": [
    "cm"
   ]
  },
  {
   "cell_type": "code",
   "execution_count": 14,
   "id": "2927ebd5",
   "metadata": {},
   "outputs": [
    {
     "data": {
      "text/plain": [
       "{'train': (array([1]), array([2656])),\n",
       " 'test': (array([1]), array([664])),\n",
       " 'other': (array([-1]), array([3320]))}"
      ]
     },
     "execution_count": 14,
     "metadata": {},
     "output_type": "execute_result"
    }
   ],
   "source": [
    "results"
   ]
  },
  {
   "cell_type": "code",
   "execution_count": 15,
   "id": "bd6a35a7",
   "metadata": {},
   "outputs": [
    {
     "data": {
      "text/plain": [
       "1.0"
      ]
     },
     "execution_count": 15,
     "metadata": {},
     "output_type": "execute_result"
    }
   ],
   "source": [
    "acc"
   ]
  },
  {
   "cell_type": "code",
   "execution_count": 16,
   "id": "ecb82705",
   "metadata": {},
   "outputs": [
    {
     "data": {
      "text/plain": [
       "{'train': (array([1]), array([2656])),\n",
       " 'test': (array([1]), array([664])),\n",
       " 'other': (array([-1]), array([3320]))}"
      ]
     },
     "execution_count": 16,
     "metadata": {},
     "output_type": "execute_result"
    }
   ],
   "source": [
    "results"
   ]
  },
  {
   "cell_type": "code",
   "execution_count": 17,
   "id": "97bc96f2",
   "metadata": {},
   "outputs": [
    {
     "name": "stdout",
     "output_type": "stream",
     "text": [
      "Isolation forest ['kurt', 'ent'], n_estimators = 100\n"
     ]
    },
    {
     "data": {
      "image/png": "[encoded data removed]",
      "text/plain": [
       "<Figure size 864x504 with 1 Axes>"
      ]
     },
     "metadata": {
      "needs_background": "light"
     },
     "output_type": "display_data"
    }
   ],
   "source": [
    "params=[\"kurt\",\"ent\"]\n",
    "n_estimators=100\n",
    "print(f\"Isolation forest {params}, n_estimators = {n_estimators}\")\n",
    "train_data=helpers.append_data_from_nparray([df_train[params],random_outliers[(\"kurt\", \"ent\")]])\n",
    "clf = IsolationForest(random_state=34,n_estimators=n_estimators,contamination=len(random_outliers[(\"kurt\", \"ent\")])/len(train_data)).fit(train_data)\n",
    "y_true=[]\n",
    "y_pred=[]\n",
    "results={}\n",
    "for dataset in dict_for_test:\n",
    "    res=clf.predict(dict_for_test[dataset][params])\n",
    "    results[dataset]=np.unique(res,return_counts=True)\n",
    "    y_true.extend([dict_test_expected[dataset]]*len(res))\n",
    "    y_pred.extend(res)\n",
    "    cm=confusion_matrix(y_true, y_pred, labels=np.unique(y_true))\n",
    "    accuracy=accuracy_score(y_true, y_pred)\n",
    "    \n",
    "# plot the line, the samples, and the nearest vectors to the plane\n",
    "xx, yy = np.meshgrid(np.linspace(0, 5, 50), np.linspace(4, 12, 50))\n",
    "Z = clf.decision_function(np.c_[xx.ravel(), yy.ravel()])\n",
    "Z = Z.reshape(xx.shape)\n",
    "\n",
    "plt.contourf(xx, yy, Z, cmap=plt.cm.Blues_r)\n",
    "\n",
    "b1 = plt.scatter(dict_for_test[\"train\"][[\"kurt\"]], dict_for_test[\"train\"][[\"ent\"]], c=\"white\", s=20, edgecolor=\"k\")\n",
    "b2 = plt.scatter(dict_for_test[\"test\"][[\"kurt\"]], dict_for_test[\"test\"][[\"ent\"]], c=\"green\", s=20, edgecolor=\"k\")\n",
    "c = plt.scatter(dict_for_test[\"other\"][[\"kurt\"]], dict_for_test[\"other\"][[\"ent\"]], c=\"red\", s=20, edgecolor=\"k\")\n",
    "d = plt.scatter([item[0] for item in random_outliers[(\"kurt\",\"ent\")]], [item[1] for item in random_outliers[(\"kurt\",\"ent\")]], c=\"yellow\", s=20, edgecolor=\"k\")\n",
    "\n",
    "plt.axis(\"tight\")\n",
    "plt.xlabel(\"Kurtosis\")\n",
    "plt.ylabel(\"Spectral Entropy\")\n",
    "plt.xlim((0, 5))\n",
    "plt.ylim((4, 12))\n",
    "plt.legend(\n",
    "    [b1, b2, c, d],\n",
    "    [\"Healthy (training set)\", \"Healthy (validation set)\", \"Unhealthy (test)\",\"Random outliers (training)\"],\n",
    "    bbox_to_anchor=(1.04,1),\n",
    "    loc=\"upper left\",\n",
    ")\n",
    "plt.show()"
   ]
  },
  {
   "cell_type": "code",
   "execution_count": 18,
   "id": "f6e0cf9a",
   "metadata": {},
   "outputs": [
    {
     "data": {
      "text/plain": [
       "(array([-1,  1]), array([ 232, 2656]))"
      ]
     },
     "execution_count": 18,
     "metadata": {},
     "output_type": "execute_result"
    }
   ],
   "source": [
    "res=clf.predict(train_data)\n",
    "np.unique(res, return_counts=True)"
   ]
  },
  {
   "cell_type": "code",
   "execution_count": 19,
   "id": "bfc8a385",
   "metadata": {},
   "outputs": [
    {
     "name": "stdout",
     "output_type": "stream",
     "text": [
      "['2_1_1A.csv', '2_2_1A.csv', '2_3_1A.csv', '2_4_1A.csv', '2_5_1A.csv']\n",
      "Getting data from file 2_1_1A.csv with shape (16517, 24)\n",
      "Getting data from file 2_2_1A.csv with shape (16517, 24)\n",
      "Getting data from file 2_3_1A.csv with shape (16517, 24)\n",
      "Getting data from file 2_4_1A.csv with shape (16517, 24)\n",
      "Getting data from file 2_5_1A.csv with shape (16517, 24)\n",
      "Reshaping []data with shape (24, 82585) to (415, 4776), with k=199, len(data[0])/k=82585/199=415.0 samples\n",
      "['2_1_2A.csv', '2_2_2A.csv', '2_3_2A.csv', '2_4_2A.csv', '2_5_2A.csv']\n",
      "Getting data from file 2_1_2A.csv with shape (16517, 24)\n",
      "Getting data from file 2_2_2A.csv with shape (16517, 24)\n",
      "Getting data from file 2_3_2A.csv with shape (16517, 24)\n",
      "Getting data from file 2_4_2A.csv with shape (16517, 24)\n",
      "Getting data from file 2_5_2A.csv with shape (16517, 24)\n",
      "Reshaping []data with shape (24, 82585) to (415, 4776), with k=199, len(data[0])/k=82585/199=415.0 samples\n",
      "['2_1_3A.csv', '2_2_3A.csv', '2_3_3A.csv', '2_4_3A.csv', '2_5_3A.csv']\n",
      "Getting data from file 2_1_3A.csv with shape (16517, 24)\n",
      "Getting data from file 2_2_3A.csv with shape (16517, 24)\n",
      "Getting data from file 2_3_3A.csv with shape (16517, 24)\n",
      "Getting data from file 2_4_3A.csv with shape (16517, 24)\n",
      "Getting data from file 2_5_3A.csv with shape (16517, 24)\n",
      "Reshaping []data with shape (24, 82585) to (415, 4776), with k=199, len(data[0])/k=82585/199=415.0 samples\n",
      "['2_1_05A.csv', '2_2_05A.csv', '2_3_05A.csv', '2_4_05A.csv', '2_5_05A.csv']\n",
      "Getting data from file 2_1_05A.csv with shape (16517, 24)\n",
      "Getting data from file 2_2_05A.csv with shape (16517, 24)\n",
      "Getting data from file 2_3_05A.csv with shape (16517, 24)\n",
      "Getting data from file 2_4_05A.csv with shape (16517, 24)\n",
      "Getting data from file 2_5_05A.csv with shape (16517, 24)\n",
      "Reshaping []data with shape (24, 82585) to (415, 4776), with k=199, len(data[0])/k=82585/199=415.0 samples\n"
     ]
    },
    {
     "name": "stderr",
     "output_type": "stream",
     "text": [
      "/home/clara/TFG/final_notebooks/helpers.py:194: RuntimeWarning: divide by zero encountered in log\n",
      "  return np.where(x == 0, 0, x * np.log(x) / np.log(base))\n",
      "/home/clara/TFG/final_notebooks/helpers.py:194: RuntimeWarning: invalid value encountered in multiply\n",
      "  return np.where(x == 0, 0, x * np.log(x) / np.log(base))\n"
     ]
    }
   ],
   "source": [
    "X_replica ,_,_=helpers.get_replica_matrixes(scaler)\n",
    "replica=helpers.get_features(X_replica)\n",
    "df_replica=pd.DataFrame(replica,columns=[\"mean\",\"std\",\"kurt\",\"rms\",\"pp\",\"zp\",\"cf\",\"ent\"])"
   ]
  },
  {
   "cell_type": "code",
   "execution_count": 20,
   "id": "69619568",
   "metadata": {},
   "outputs": [
    {
     "name": "stdout",
     "output_type": "stream",
     "text": [
      "Isolation forest ['kurt', 'ent'], n_estimators = 100\n"
     ]
    }
   ],
   "source": [
    "dict_for_test={\"train\":df_train,\"test\":df_replica,\"other\":df_other}\n",
    "dict_test_expected={\"train\":1,\"test\":1,\"other\":1}\n",
    "results, cm, acc = helpers.train_predict_Isolation_noshow(df_train,dict_for_test, dict_test_expected,[\"kurt\",\"ent\"], random_outliers[(\"kurt\",\"ent\")],100)"
   ]
  },
  {
   "cell_type": "code",
   "execution_count": 21,
   "id": "e7a2bb0e",
   "metadata": {},
   "outputs": [
    {
     "data": {
      "text/plain": [
       "array([[3049]])"
      ]
     },
     "execution_count": 21,
     "metadata": {},
     "output_type": "execute_result"
    }
   ],
   "source": [
    "cm"
   ]
  },
  {
   "cell_type": "code",
   "execution_count": 22,
   "id": "79424f67",
   "metadata": {},
   "outputs": [
    {
     "data": {
      "text/plain": [
       "0.39929282346778416"
      ]
     },
     "execution_count": 22,
     "metadata": {},
     "output_type": "execute_result"
    }
   ],
   "source": [
    "acc"
   ]
  },
  {
   "cell_type": "code",
   "execution_count": 23,
   "id": "8adab506",
   "metadata": {},
   "outputs": [
    {
     "data": {
      "text/plain": [
       "{'train': (array([1]), array([2656])),\n",
       " 'test': (array([-1,  1]), array([1252,  408])),\n",
       " 'other': (array([-1]), array([3320]))}"
      ]
     },
     "execution_count": 23,
     "metadata": {},
     "output_type": "execute_result"
    }
   ],
   "source": [
    "results"
   ]
  },
  {
   "cell_type": "code",
   "execution_count": 23,
   "id": "9afba7df",
   "metadata": {},
   "outputs": [
    {
     "name": "stdout",
     "output_type": "stream",
     "text": [
      "Isolation forest ['kurt', 'ent'], n_estimators = 100\n"
     ]
    },
    {
     "data": {
      "image/png": "[encoded data removed]",
      "text/plain": [
       "<Figure size 864x504 with 1 Axes>"
      ]
     },
     "metadata": {
      "needs_background": "light"
     },
     "output_type": "display_data"
    }
   ],
   "source": [
    "params=[\"kurt\",\"ent\"]\n",
    "n_estimators=100\n",
    "print(f\"Isolation forest {params}, n_estimators = {n_estimators}\")\n",
    "train_data=helpers.append_data_from_nparray([df_train[params],random_outliers[(\"kurt\", \"ent\")]])\n",
    "clf = IsolationForest(random_state=34,n_estimators=n_estimators,contamination=len(random_outliers[(\"kurt\", \"ent\")])/len(train_data)).fit(train_data)\n",
    "y_true=[]\n",
    "y_pred=[]\n",
    "results={}\n",
    "for dataset in dict_for_test:\n",
    "    res=clf.predict(dict_for_test[dataset][params])\n",
    "    results[dataset]=np.unique(res,return_counts=True)\n",
    "    y_true.extend([dict_test_expected[dataset]]*len(res))\n",
    "    y_pred.extend(res)\n",
    "    cm=confusion_matrix(y_true, y_pred, labels=np.unique(y_true))\n",
    "    accuracy=accuracy_score(y_true, y_pred)\n",
    "    \n",
    "# plot the line, the samples, and the nearest vectors to the plane\n",
    "xx, yy = np.meshgrid(np.linspace(-1, 5, 50), np.linspace(4, 12, 50))\n",
    "Z = clf.decision_function(np.c_[xx.ravel(), yy.ravel()])\n",
    "Z = Z.reshape(xx.shape)\n",
    "\n",
    "plt.contourf(xx, yy, Z, cmap=plt.cm.Blues_r)\n",
    "\n",
    "b1 = plt.scatter(dict_for_test[\"train\"][[\"kurt\"]], dict_for_test[\"train\"][[\"ent\"]], c=\"white\", s=20, edgecolor=\"k\")\n",
    "b2 = plt.scatter(dict_for_test[\"test\"][[\"kurt\"]], dict_for_test[\"test\"][[\"ent\"]], c=\"green\", s=20, edgecolor=\"k\")\n",
    "d = plt.scatter([item[0] for item in random_outliers[(\"kurt\",\"ent\")]], [item[1] for item in random_outliers[(\"kurt\",\"ent\")]], c=\"yellow\", s=20, edgecolor=\"k\")\n",
    "\n",
    "plt.axis(\"tight\")\n",
    "plt.xlabel(\"Kurtosis\")\n",
    "plt.ylabel(\"Spectral Entropy\")\n",
    "plt.xlim((-1, 5))\n",
    "plt.ylim((4, 12))\n",
    "plt.legend(\n",
    "    [b1, b2, d],\n",
    "    [\"Healthy (training set)\", \"Replica\",\"Random outliers (training set)\"],\n",
    "    bbox_to_anchor=(1.04,1),\n",
    "    loc=\"upper left\",\n",
    ")\n",
    "plt.show()"
   ]
  },
  {
   "cell_type": "code",
   "execution_count": 24,
   "id": "9529ad34",
   "metadata": {},
   "outputs": [],
   "source": [
    "df_replica_train, df_replica_test=helpers.train_test_split(df_replica, test_size=0.2)\n",
    "dict_for_test={\"train\":df_replica_train,\"test\":df_replica_test,\"other\":df_other}\n",
    "dict_test_expected={\"train\":1,\"test\":1,\"other\":-1}"
   ]
  },
  {
   "cell_type": "code",
   "execution_count": 25,
   "id": "864186d3",
   "metadata": {},
   "outputs": [],
   "source": [
    "# choose random outliers but store them for repeatable results\n",
    "random_outliers = {}\n",
    "for i in range(2,4):\n",
    "    for params in combinations([\"mean\",\"std\",\"kurt\",\"rms\",\"pp\",\"zp\",\"cf\",\"ent\"], i):\n",
    "        random_outliers[params] = random.sample(dict_for_test[\"other\"][list(params)].values.tolist(),166)"
   ]
  },
  {
   "cell_type": "code",
   "execution_count": 26,
   "id": "95a3ab43",
   "metadata": {},
   "outputs": [
    {
     "name": "stdout",
     "output_type": "stream",
     "text": [
      "Isolation forest ['kurt', 'ent'], n_estimators = 100\n"
     ]
    }
   ],
   "source": [
    "results, cm, acc = helpers.train_predict_Isolation_noshow(df_replica_train,dict_for_test, dict_test_expected,[\"kurt\",\"ent\"], random_outliers[(\"kurt\", \"ent\")],100)"
   ]
  },
  {
   "cell_type": "code",
   "execution_count": 27,
   "id": "fe96d683",
   "metadata": {},
   "outputs": [
    {
     "data": {
      "text/plain": [
       "{'train': (array([-1,  1]), array([  59, 1269])),\n",
       " 'test': (array([-1,  1]), array([ 12, 320])),\n",
       " 'other': (array([-1,  1]), array([2133, 1187]))}"
      ]
     },
     "execution_count": 27,
     "metadata": {},
     "output_type": "execute_result"
    }
   ],
   "source": [
    "results"
   ]
  },
  {
   "cell_type": "code",
   "execution_count": 28,
   "id": "1480cd6c",
   "metadata": {},
   "outputs": [
    {
     "data": {
      "text/plain": [
       "array([[2133, 1187],\n",
       "       [  71, 1589]])"
      ]
     },
     "execution_count": 28,
     "metadata": {},
     "output_type": "execute_result"
    }
   ],
   "source": [
    "cm"
   ]
  },
  {
   "cell_type": "code",
   "execution_count": 29,
   "id": "3629152a",
   "metadata": {},
   "outputs": [
    {
     "data": {
      "text/plain": [
       "0.7473895582329317"
      ]
     },
     "execution_count": 29,
     "metadata": {},
     "output_type": "execute_result"
    }
   ],
   "source": [
    "acc"
   ]
  },
  {
   "cell_type": "code",
   "execution_count": 30,
   "id": "8b6b15fd",
   "metadata": {},
   "outputs": [
    {
     "name": "stdout",
     "output_type": "stream",
     "text": [
      "Isolation forest ['kurt', 'ent'], n_estimators = 100\n"
     ]
    },
    {
     "data": {
      "image/png": "[encoded data removed]",
      "text/plain": [
       "<Figure size 864x504 with 1 Axes>"
      ]
     },
     "metadata": {
      "needs_background": "light"
     },
     "output_type": "display_data"
    }
   ],
   "source": [
    "params=[\"kurt\",\"ent\"]\n",
    "n_estimators=100\n",
    "print(f\"Isolation forest {params}, n_estimators = {n_estimators}\")\n",
    "train_data=helpers.append_data_from_nparray([df_replica_train[params],random_outliers[(\"kurt\", \"ent\")]])\n",
    "clf = IsolationForest(random_state=34,n_estimators=n_estimators,contamination=len(random_outliers[(\"kurt\", \"ent\")])/len(train_data)).fit(train_data)\n",
    "y_true=[]\n",
    "y_pred=[]\n",
    "results={}\n",
    "for dataset in dict_for_test:\n",
    "    res=clf.predict(dict_for_test[dataset][params])\n",
    "    results[dataset]=np.unique(res,return_counts=True)\n",
    "    y_true.extend([dict_test_expected[dataset]]*len(res))\n",
    "    y_pred.extend(res)\n",
    "    cm=confusion_matrix(y_true, y_pred, labels=np.unique(y_true))\n",
    "    accuracy=accuracy_score(y_true, y_pred)\n",
    "    \n",
    "# plot the line, the samples, and the nearest vectors to the plane\n",
    "xx, yy = np.meshgrid(np.linspace(-1, 5, 50), np.linspace(4, 12, 50))\n",
    "Z = clf.decision_function(np.c_[xx.ravel(), yy.ravel()])\n",
    "Z = Z.reshape(xx.shape)\n",
    "\n",
    "plt.contourf(xx, yy, Z, cmap=plt.cm.Blues_r)\n",
    "\n",
    "b1 = plt.scatter(dict_for_test[\"train\"][[\"kurt\"]], dict_for_test[\"train\"][[\"ent\"]], c=\"white\", s=20, edgecolor=\"k\")\n",
    "b2 = plt.scatter(dict_for_test[\"test\"][[\"kurt\"]], dict_for_test[\"test\"][[\"ent\"]], c=\"green\", s=20, edgecolor=\"k\")\n",
    "c = plt.scatter(dict_for_test[\"other\"][[\"kurt\"]], dict_for_test[\"other\"][[\"ent\"]], c=\"red\", s=20, edgecolor=\"k\")\n",
    "d = plt.scatter([item[0] for item in random_outliers[(\"kurt\",\"ent\")]], [item[1] for item in random_outliers[(\"kurt\",\"ent\")]], c=\"yellow\", s=20, edgecolor=\"k\")\n",
    "\n",
    "plt.axis(\"tight\")\n",
    "plt.xlabel(\"Kurtosis\")\n",
    "plt.ylabel(\"Spectral Entropy\")\n",
    "plt.xlim((-1, 5))\n",
    "plt.ylim((4, 12))\n",
    "plt.legend(\n",
    "    [b1, b2, c, d],\n",
    "    [\"Replica (training set)\", \"Replica (validation set)\", \"Unhealthy (test)\",\"Random outliers (training)\"],\n",
    "    bbox_to_anchor=(1.04,1),\n",
    "    loc=\"upper left\",\n",
    ")\n",
    "plt.show()"
   ]
  },
  {
   "cell_type": "code",
   "execution_count": 31,
   "id": "7b0ec735",
   "metadata": {},
   "outputs": [
    {
     "name": "stdout",
     "output_type": "stream",
     "text": [
      "Isolation forest ['mean', 'std'], n_estimators = 5\n",
      "Isolation forest ['mean', 'std'], n_estimators = 10\n",
      "Isolation forest ['mean', 'std'], n_estimators = 50\n",
      "Isolation forest ['mean', 'std'], n_estimators = 100\n",
      "Isolation forest ['mean', 'kurt'], n_estimators = 5\n",
      "Isolation forest ['mean', 'kurt'], n_estimators = 10\n",
      "Isolation forest ['mean', 'kurt'], n_estimators = 50\n",
      "Isolation forest ['mean', 'kurt'], n_estimators = 100\n",
      "Isolation forest ['mean', 'rms'], n_estimators = 5\n",
      "Isolation forest ['mean', 'rms'], n_estimators = 10\n",
      "Isolation forest ['mean', 'rms'], n_estimators = 50\n",
      "Isolation forest ['mean', 'rms'], n_estimators = 100\n",
      "Isolation forest ['mean', 'pp'], n_estimators = 5\n",
      "Isolation forest ['mean', 'pp'], n_estimators = 10\n",
      "Isolation forest ['mean', 'pp'], n_estimators = 50\n",
      "Isolation forest ['mean', 'pp'], n_estimators = 100\n",
      "Isolation forest ['mean', 'zp'], n_estimators = 5\n",
      "Isolation forest ['mean', 'zp'], n_estimators = 10\n",
      "Isolation forest ['mean', 'zp'], n_estimators = 50\n",
      "Isolation forest ['mean', 'zp'], n_estimators = 100\n",
      "Isolation forest ['mean', 'cf'], n_estimators = 5\n",
      "Isolation forest ['mean', 'cf'], n_estimators = 10\n",
      "Isolation forest ['mean', 'cf'], n_estimators = 50\n",
      "Isolation forest ['mean', 'cf'], n_estimators = 100\n",
      "Isolation forest ['mean', 'ent'], n_estimators = 5\n",
      "Isolation forest ['mean', 'ent'], n_estimators = 10\n",
      "Isolation forest ['mean', 'ent'], n_estimators = 50\n",
      "Isolation forest ['mean', 'ent'], n_estimators = 100\n",
      "Isolation forest ['std', 'kurt'], n_estimators = 5\n",
      "Isolation forest ['std', 'kurt'], n_estimators = 10\n",
      "Isolation forest ['std', 'kurt'], n_estimators = 50\n",
      "Isolation forest ['std', 'kurt'], n_estimators = 100\n",
      "Isolation forest ['std', 'rms'], n_estimators = 5\n",
      "Isolation forest ['std', 'rms'], n_estimators = 10\n",
      "Isolation forest ['std', 'rms'], n_estimators = 50\n",
      "Isolation forest ['std', 'rms'], n_estimators = 100\n",
      "Isolation forest ['std', 'pp'], n_estimators = 5\n",
      "Isolation forest ['std', 'pp'], n_estimators = 10\n",
      "Isolation forest ['std', 'pp'], n_estimators = 50\n",
      "Isolation forest ['std', 'pp'], n_estimators = 100\n",
      "Isolation forest ['std', 'zp'], n_estimators = 5\n",
      "Isolation forest ['std', 'zp'], n_estimators = 10\n",
      "Isolation forest ['std', 'zp'], n_estimators = 50\n",
      "Isolation forest ['std', 'zp'], n_estimators = 100\n",
      "Isolation forest ['std', 'cf'], n_estimators = 5\n",
      "Isolation forest ['std', 'cf'], n_estimators = 10\n",
      "Isolation forest ['std', 'cf'], n_estimators = 50\n",
      "Isolation forest ['std', 'cf'], n_estimators = 100\n",
      "Isolation forest ['std', 'ent'], n_estimators = 5\n",
      "Isolation forest ['std', 'ent'], n_estimators = 10\n",
      "Isolation forest ['std', 'ent'], n_estimators = 50\n",
      "Isolation forest ['std', 'ent'], n_estimators = 100\n",
      "Isolation forest ['kurt', 'rms'], n_estimators = 5\n",
      "Isolation forest ['kurt', 'rms'], n_estimators = 10\n",
      "Isolation forest ['kurt', 'rms'], n_estimators = 50\n",
      "Isolation forest ['kurt', 'rms'], n_estimators = 100\n",
      "Isolation forest ['kurt', 'pp'], n_estimators = 5\n",
      "Isolation forest ['kurt', 'pp'], n_estimators = 10\n",
      "Isolation forest ['kurt', 'pp'], n_estimators = 50\n",
      "Isolation forest ['kurt', 'pp'], n_estimators = 100\n",
      "Isolation forest ['kurt', 'zp'], n_estimators = 5\n",
      "Isolation forest ['kurt', 'zp'], n_estimators = 10\n",
      "Isolation forest ['kurt', 'zp'], n_estimators = 50\n",
      "Isolation forest ['kurt', 'zp'], n_estimators = 100\n",
      "Isolation forest ['kurt', 'cf'], n_estimators = 5\n",
      "Isolation forest ['kurt', 'cf'], n_estimators = 10\n",
      "Isolation forest ['kurt', 'cf'], n_estimators = 50\n",
      "Isolation forest ['kurt', 'cf'], n_estimators = 100\n",
      "Isolation forest ['kurt', 'ent'], n_estimators = 5\n",
      "Isolation forest ['kurt', 'ent'], n_estimators = 10\n",
      "Isolation forest ['kurt', 'ent'], n_estimators = 50\n",
      "Isolation forest ['kurt', 'ent'], n_estimators = 100\n",
      "Isolation forest ['rms', 'pp'], n_estimators = 5\n",
      "Isolation forest ['rms', 'pp'], n_estimators = 10\n",
      "Isolation forest ['rms', 'pp'], n_estimators = 50\n",
      "Isolation forest ['rms', 'pp'], n_estimators = 100\n",
      "Isolation forest ['rms', 'zp'], n_estimators = 5\n",
      "Isolation forest ['rms', 'zp'], n_estimators = 10\n",
      "Isolation forest ['rms', 'zp'], n_estimators = 50\n",
      "Isolation forest ['rms', 'zp'], n_estimators = 100\n",
      "Isolation forest ['rms', 'cf'], n_estimators = 5\n",
      "Isolation forest ['rms', 'cf'], n_estimators = 10\n",
      "Isolation forest ['rms', 'cf'], n_estimators = 50\n",
      "Isolation forest ['rms', 'cf'], n_estimators = 100\n",
      "Isolation forest ['rms', 'ent'], n_estimators = 5\n",
      "Isolation forest ['rms', 'ent'], n_estimators = 10\n",
      "Isolation forest ['rms', 'ent'], n_estimators = 50\n",
      "Isolation forest ['rms', 'ent'], n_estimators = 100\n",
      "Isolation forest ['pp', 'zp'], n_estimators = 5\n",
      "Isolation forest ['pp', 'zp'], n_estimators = 10\n",
      "Isolation forest ['pp', 'zp'], n_estimators = 50\n",
      "Isolation forest ['pp', 'zp'], n_estimators = 100\n",
      "Isolation forest ['pp', 'cf'], n_estimators = 5\n",
      "Isolation forest ['pp', 'cf'], n_estimators = 10\n",
      "Isolation forest ['pp', 'cf'], n_estimators = 50\n",
      "Isolation forest ['pp', 'cf'], n_estimators = 100\n",
      "Isolation forest ['pp', 'ent'], n_estimators = 5\n",
      "Isolation forest ['pp', 'ent'], n_estimators = 10\n",
      "Isolation forest ['pp', 'ent'], n_estimators = 50\n",
      "Isolation forest ['pp', 'ent'], n_estimators = 100\n",
      "Isolation forest ['zp', 'cf'], n_estimators = 5\n",
      "Isolation forest ['zp', 'cf'], n_estimators = 10\n",
      "Isolation forest ['zp', 'cf'], n_estimators = 50\n",
      "Isolation forest ['zp', 'cf'], n_estimators = 100\n",
      "Isolation forest ['zp', 'ent'], n_estimators = 5\n",
      "Isolation forest ['zp', 'ent'], n_estimators = 10\n",
      "Isolation forest ['zp', 'ent'], n_estimators = 50\n",
      "Isolation forest ['zp', 'ent'], n_estimators = 100\n",
      "Isolation forest ['cf', 'ent'], n_estimators = 5\n",
      "Isolation forest ['cf', 'ent'], n_estimators = 10\n",
      "Isolation forest ['cf', 'ent'], n_estimators = 50\n",
      "Isolation forest ['cf', 'ent'], n_estimators = 100\n",
      "Isolation forest ['mean', 'std', 'kurt'], n_estimators = 5\n",
      "Isolation forest ['mean', 'std', 'kurt'], n_estimators = 10\n",
      "Isolation forest ['mean', 'std', 'kurt'], n_estimators = 50\n",
      "Isolation forest ['mean', 'std', 'kurt'], n_estimators = 100\n",
      "Isolation forest ['mean', 'std', 'rms'], n_estimators = 5\n",
      "Isolation forest ['mean', 'std', 'rms'], n_estimators = 10\n",
      "Isolation forest ['mean', 'std', 'rms'], n_estimators = 50\n",
      "Isolation forest ['mean', 'std', 'rms'], n_estimators = 100\n",
      "Isolation forest ['mean', 'std', 'pp'], n_estimators = 5\n",
      "Isolation forest ['mean', 'std', 'pp'], n_estimators = 10\n",
      "Isolation forest ['mean', 'std', 'pp'], n_estimators = 50\n",
      "Isolation forest ['mean', 'std', 'pp'], n_estimators = 100\n",
      "Isolation forest ['mean', 'std', 'zp'], n_estimators = 5\n",
      "Isolation forest ['mean', 'std', 'zp'], n_estimators = 10\n",
      "Isolation forest ['mean', 'std', 'zp'], n_estimators = 50\n",
      "Isolation forest ['mean', 'std', 'zp'], n_estimators = 100\n",
      "Isolation forest ['mean', 'std', 'cf'], n_estimators = 5\n",
      "Isolation forest ['mean', 'std', 'cf'], n_estimators = 10\n",
      "Isolation forest ['mean', 'std', 'cf'], n_estimators = 50\n",
      "Isolation forest ['mean', 'std', 'cf'], n_estimators = 100\n",
      "Isolation forest ['mean', 'std', 'ent'], n_estimators = 5\n",
      "Isolation forest ['mean', 'std', 'ent'], n_estimators = 10\n",
      "Isolation forest ['mean', 'std', 'ent'], n_estimators = 50\n",
      "Isolation forest ['mean', 'std', 'ent'], n_estimators = 100\n",
      "Isolation forest ['mean', 'kurt', 'rms'], n_estimators = 5\n",
      "Isolation forest ['mean', 'kurt', 'rms'], n_estimators = 10\n",
      "Isolation forest ['mean', 'kurt', 'rms'], n_estimators = 50\n",
      "Isolation forest ['mean', 'kurt', 'rms'], n_estimators = 100\n",
      "Isolation forest ['mean', 'kurt', 'pp'], n_estimators = 5\n",
      "Isolation forest ['mean', 'kurt', 'pp'], n_estimators = 10\n",
      "Isolation forest ['mean', 'kurt', 'pp'], n_estimators = 50\n",
      "Isolation forest ['mean', 'kurt', 'pp'], n_estimators = 100\n",
      "Isolation forest ['mean', 'kurt', 'zp'], n_estimators = 5\n",
      "Isolation forest ['mean', 'kurt', 'zp'], n_estimators = 10\n",
      "Isolation forest ['mean', 'kurt', 'zp'], n_estimators = 50\n",
      "Isolation forest ['mean', 'kurt', 'zp'], n_estimators = 100\n",
      "Isolation forest ['mean', 'kurt', 'cf'], n_estimators = 5\n",
      "Isolation forest ['mean', 'kurt', 'cf'], n_estimators = 10\n",
      "Isolation forest ['mean', 'kurt', 'cf'], n_estimators = 50\n",
      "Isolation forest ['mean', 'kurt', 'cf'], n_estimators = 100\n",
      "Isolation forest ['mean', 'kurt', 'ent'], n_estimators = 5\n",
      "Isolation forest ['mean', 'kurt', 'ent'], n_estimators = 10\n",
      "Isolation forest ['mean', 'kurt', 'ent'], n_estimators = 50\n"
     ]
    },
    {
     "name": "stdout",
     "output_type": "stream",
     "text": [
      "Isolation forest ['mean', 'kurt', 'ent'], n_estimators = 100\n",
      "Isolation forest ['mean', 'rms', 'pp'], n_estimators = 5\n",
      "Isolation forest ['mean', 'rms', 'pp'], n_estimators = 10\n",
      "Isolation forest ['mean', 'rms', 'pp'], n_estimators = 50\n",
      "Isolation forest ['mean', 'rms', 'pp'], n_estimators = 100\n",
      "Isolation forest ['mean', 'rms', 'zp'], n_estimators = 5\n",
      "Isolation forest ['mean', 'rms', 'zp'], n_estimators = 10\n",
      "Isolation forest ['mean', 'rms', 'zp'], n_estimators = 50\n",
      "Isolation forest ['mean', 'rms', 'zp'], n_estimators = 100\n",
      "Isolation forest ['mean', 'rms', 'cf'], n_estimators = 5\n",
      "Isolation forest ['mean', 'rms', 'cf'], n_estimators = 10\n",
      "Isolation forest ['mean', 'rms', 'cf'], n_estimators = 50\n",
      "Isolation forest ['mean', 'rms', 'cf'], n_estimators = 100\n",
      "Isolation forest ['mean', 'rms', 'ent'], n_estimators = 5\n",
      "Isolation forest ['mean', 'rms', 'ent'], n_estimators = 10\n",
      "Isolation forest ['mean', 'rms', 'ent'], n_estimators = 50\n",
      "Isolation forest ['mean', 'rms', 'ent'], n_estimators = 100\n",
      "Isolation forest ['mean', 'pp', 'zp'], n_estimators = 5\n",
      "Isolation forest ['mean', 'pp', 'zp'], n_estimators = 10\n",
      "Isolation forest ['mean', 'pp', 'zp'], n_estimators = 50\n",
      "Isolation forest ['mean', 'pp', 'zp'], n_estimators = 100\n",
      "Isolation forest ['mean', 'pp', 'cf'], n_estimators = 5\n",
      "Isolation forest ['mean', 'pp', 'cf'], n_estimators = 10\n",
      "Isolation forest ['mean', 'pp', 'cf'], n_estimators = 50\n",
      "Isolation forest ['mean', 'pp', 'cf'], n_estimators = 100\n",
      "Isolation forest ['mean', 'pp', 'ent'], n_estimators = 5\n",
      "Isolation forest ['mean', 'pp', 'ent'], n_estimators = 10\n",
      "Isolation forest ['mean', 'pp', 'ent'], n_estimators = 50\n",
      "Isolation forest ['mean', 'pp', 'ent'], n_estimators = 100\n",
      "Isolation forest ['mean', 'zp', 'cf'], n_estimators = 5\n",
      "Isolation forest ['mean', 'zp', 'cf'], n_estimators = 10\n",
      "Isolation forest ['mean', 'zp', 'cf'], n_estimators = 50\n",
      "Isolation forest ['mean', 'zp', 'cf'], n_estimators = 100\n",
      "Isolation forest ['mean', 'zp', 'ent'], n_estimators = 5\n",
      "Isolation forest ['mean', 'zp', 'ent'], n_estimators = 10\n",
      "Isolation forest ['mean', 'zp', 'ent'], n_estimators = 50\n",
      "Isolation forest ['mean', 'zp', 'ent'], n_estimators = 100\n",
      "Isolation forest ['mean', 'cf', 'ent'], n_estimators = 5\n",
      "Isolation forest ['mean', 'cf', 'ent'], n_estimators = 10\n",
      "Isolation forest ['mean', 'cf', 'ent'], n_estimators = 50\n",
      "Isolation forest ['mean', 'cf', 'ent'], n_estimators = 100\n",
      "Isolation forest ['std', 'kurt', 'rms'], n_estimators = 5\n",
      "Isolation forest ['std', 'kurt', 'rms'], n_estimators = 10\n",
      "Isolation forest ['std', 'kurt', 'rms'], n_estimators = 50\n",
      "Isolation forest ['std', 'kurt', 'rms'], n_estimators = 100\n",
      "Isolation forest ['std', 'kurt', 'pp'], n_estimators = 5\n",
      "Isolation forest ['std', 'kurt', 'pp'], n_estimators = 10\n",
      "Isolation forest ['std', 'kurt', 'pp'], n_estimators = 50\n",
      "Isolation forest ['std', 'kurt', 'pp'], n_estimators = 100\n",
      "Isolation forest ['std', 'kurt', 'zp'], n_estimators = 5\n",
      "Isolation forest ['std', 'kurt', 'zp'], n_estimators = 10\n",
      "Isolation forest ['std', 'kurt', 'zp'], n_estimators = 50\n",
      "Isolation forest ['std', 'kurt', 'zp'], n_estimators = 100\n",
      "Isolation forest ['std', 'kurt', 'cf'], n_estimators = 5\n",
      "Isolation forest ['std', 'kurt', 'cf'], n_estimators = 10\n",
      "Isolation forest ['std', 'kurt', 'cf'], n_estimators = 50\n",
      "Isolation forest ['std', 'kurt', 'cf'], n_estimators = 100\n",
      "Isolation forest ['std', 'kurt', 'ent'], n_estimators = 5\n",
      "Isolation forest ['std', 'kurt', 'ent'], n_estimators = 10\n",
      "Isolation forest ['std', 'kurt', 'ent'], n_estimators = 50\n",
      "Isolation forest ['std', 'kurt', 'ent'], n_estimators = 100\n",
      "Isolation forest ['std', 'rms', 'pp'], n_estimators = 5\n",
      "Isolation forest ['std', 'rms', 'pp'], n_estimators = 10\n",
      "Isolation forest ['std', 'rms', 'pp'], n_estimators = 50\n",
      "Isolation forest ['std', 'rms', 'pp'], n_estimators = 100\n",
      "Isolation forest ['std', 'rms', 'zp'], n_estimators = 5\n",
      "Isolation forest ['std', 'rms', 'zp'], n_estimators = 10\n",
      "Isolation forest ['std', 'rms', 'zp'], n_estimators = 50\n",
      "Isolation forest ['std', 'rms', 'zp'], n_estimators = 100\n",
      "Isolation forest ['std', 'rms', 'cf'], n_estimators = 5\n",
      "Isolation forest ['std', 'rms', 'cf'], n_estimators = 10\n",
      "Isolation forest ['std', 'rms', 'cf'], n_estimators = 50\n",
      "Isolation forest ['std', 'rms', 'cf'], n_estimators = 100\n",
      "Isolation forest ['std', 'rms', 'ent'], n_estimators = 5\n",
      "Isolation forest ['std', 'rms', 'ent'], n_estimators = 10\n",
      "Isolation forest ['std', 'rms', 'ent'], n_estimators = 50\n",
      "Isolation forest ['std', 'rms', 'ent'], n_estimators = 100\n",
      "Isolation forest ['std', 'pp', 'zp'], n_estimators = 5\n",
      "Isolation forest ['std', 'pp', 'zp'], n_estimators = 10\n",
      "Isolation forest ['std', 'pp', 'zp'], n_estimators = 50\n",
      "Isolation forest ['std', 'pp', 'zp'], n_estimators = 100\n",
      "Isolation forest ['std', 'pp', 'cf'], n_estimators = 5\n",
      "Isolation forest ['std', 'pp', 'cf'], n_estimators = 10\n",
      "Isolation forest ['std', 'pp', 'cf'], n_estimators = 50\n",
      "Isolation forest ['std', 'pp', 'cf'], n_estimators = 100\n",
      "Isolation forest ['std', 'pp', 'ent'], n_estimators = 5\n",
      "Isolation forest ['std', 'pp', 'ent'], n_estimators = 10\n",
      "Isolation forest ['std', 'pp', 'ent'], n_estimators = 50\n",
      "Isolation forest ['std', 'pp', 'ent'], n_estimators = 100\n",
      "Isolation forest ['std', 'zp', 'cf'], n_estimators = 5\n",
      "Isolation forest ['std', 'zp', 'cf'], n_estimators = 10\n",
      "Isolation forest ['std', 'zp', 'cf'], n_estimators = 50\n",
      "Isolation forest ['std', 'zp', 'cf'], n_estimators = 100\n",
      "Isolation forest ['std', 'zp', 'ent'], n_estimators = 5\n",
      "Isolation forest ['std', 'zp', 'ent'], n_estimators = 10\n",
      "Isolation forest ['std', 'zp', 'ent'], n_estimators = 50\n",
      "Isolation forest ['std', 'zp', 'ent'], n_estimators = 100\n",
      "Isolation forest ['std', 'cf', 'ent'], n_estimators = 5\n",
      "Isolation forest ['std', 'cf', 'ent'], n_estimators = 10\n",
      "Isolation forest ['std', 'cf', 'ent'], n_estimators = 50\n",
      "Isolation forest ['std', 'cf', 'ent'], n_estimators = 100\n",
      "Isolation forest ['kurt', 'rms', 'pp'], n_estimators = 5\n",
      "Isolation forest ['kurt', 'rms', 'pp'], n_estimators = 10\n",
      "Isolation forest ['kurt', 'rms', 'pp'], n_estimators = 50\n",
      "Isolation forest ['kurt', 'rms', 'pp'], n_estimators = 100\n",
      "Isolation forest ['kurt', 'rms', 'zp'], n_estimators = 5\n",
      "Isolation forest ['kurt', 'rms', 'zp'], n_estimators = 10\n",
      "Isolation forest ['kurt', 'rms', 'zp'], n_estimators = 50\n",
      "Isolation forest ['kurt', 'rms', 'zp'], n_estimators = 100\n",
      "Isolation forest ['kurt', 'rms', 'cf'], n_estimators = 5\n",
      "Isolation forest ['kurt', 'rms', 'cf'], n_estimators = 10\n",
      "Isolation forest ['kurt', 'rms', 'cf'], n_estimators = 50\n",
      "Isolation forest ['kurt', 'rms', 'cf'], n_estimators = 100\n",
      "Isolation forest ['kurt', 'rms', 'ent'], n_estimators = 5\n",
      "Isolation forest ['kurt', 'rms', 'ent'], n_estimators = 10\n",
      "Isolation forest ['kurt', 'rms', 'ent'], n_estimators = 50\n",
      "Isolation forest ['kurt', 'rms', 'ent'], n_estimators = 100\n",
      "Isolation forest ['kurt', 'pp', 'zp'], n_estimators = 5\n",
      "Isolation forest ['kurt', 'pp', 'zp'], n_estimators = 10\n",
      "Isolation forest ['kurt', 'pp', 'zp'], n_estimators = 50\n",
      "Isolation forest ['kurt', 'pp', 'zp'], n_estimators = 100\n",
      "Isolation forest ['kurt', 'pp', 'cf'], n_estimators = 5\n",
      "Isolation forest ['kurt', 'pp', 'cf'], n_estimators = 10\n",
      "Isolation forest ['kurt', 'pp', 'cf'], n_estimators = 50\n",
      "Isolation forest ['kurt', 'pp', 'cf'], n_estimators = 100\n",
      "Isolation forest ['kurt', 'pp', 'ent'], n_estimators = 5\n",
      "Isolation forest ['kurt', 'pp', 'ent'], n_estimators = 10\n",
      "Isolation forest ['kurt', 'pp', 'ent'], n_estimators = 50\n",
      "Isolation forest ['kurt', 'pp', 'ent'], n_estimators = 100\n",
      "Isolation forest ['kurt', 'zp', 'cf'], n_estimators = 5\n",
      "Isolation forest ['kurt', 'zp', 'cf'], n_estimators = 10\n",
      "Isolation forest ['kurt', 'zp', 'cf'], n_estimators = 50\n",
      "Isolation forest ['kurt', 'zp', 'cf'], n_estimators = 100\n",
      "Isolation forest ['kurt', 'zp', 'ent'], n_estimators = 5\n",
      "Isolation forest ['kurt', 'zp', 'ent'], n_estimators = 10\n",
      "Isolation forest ['kurt', 'zp', 'ent'], n_estimators = 50\n",
      "Isolation forest ['kurt', 'zp', 'ent'], n_estimators = 100\n",
      "Isolation forest ['kurt', 'cf', 'ent'], n_estimators = 5\n",
      "Isolation forest ['kurt', 'cf', 'ent'], n_estimators = 10\n",
      "Isolation forest ['kurt', 'cf', 'ent'], n_estimators = 50\n",
      "Isolation forest ['kurt', 'cf', 'ent'], n_estimators = 100\n",
      "Isolation forest ['rms', 'pp', 'zp'], n_estimators = 5\n",
      "Isolation forest ['rms', 'pp', 'zp'], n_estimators = 10\n",
      "Isolation forest ['rms', 'pp', 'zp'], n_estimators = 50\n"
     ]
    },
    {
     "name": "stdout",
     "output_type": "stream",
     "text": [
      "Isolation forest ['rms', 'pp', 'zp'], n_estimators = 100\n",
      "Isolation forest ['rms', 'pp', 'cf'], n_estimators = 5\n",
      "Isolation forest ['rms', 'pp', 'cf'], n_estimators = 10\n",
      "Isolation forest ['rms', 'pp', 'cf'], n_estimators = 50\n",
      "Isolation forest ['rms', 'pp', 'cf'], n_estimators = 100\n",
      "Isolation forest ['rms', 'pp', 'ent'], n_estimators = 5\n",
      "Isolation forest ['rms', 'pp', 'ent'], n_estimators = 10\n",
      "Isolation forest ['rms', 'pp', 'ent'], n_estimators = 50\n",
      "Isolation forest ['rms', 'pp', 'ent'], n_estimators = 100\n",
      "Isolation forest ['rms', 'zp', 'cf'], n_estimators = 5\n",
      "Isolation forest ['rms', 'zp', 'cf'], n_estimators = 10\n",
      "Isolation forest ['rms', 'zp', 'cf'], n_estimators = 50\n",
      "Isolation forest ['rms', 'zp', 'cf'], n_estimators = 100\n",
      "Isolation forest ['rms', 'zp', 'ent'], n_estimators = 5\n",
      "Isolation forest ['rms', 'zp', 'ent'], n_estimators = 10\n",
      "Isolation forest ['rms', 'zp', 'ent'], n_estimators = 50\n",
      "Isolation forest ['rms', 'zp', 'ent'], n_estimators = 100\n",
      "Isolation forest ['rms', 'cf', 'ent'], n_estimators = 5\n",
      "Isolation forest ['rms', 'cf', 'ent'], n_estimators = 10\n",
      "Isolation forest ['rms', 'cf', 'ent'], n_estimators = 50\n",
      "Isolation forest ['rms', 'cf', 'ent'], n_estimators = 100\n",
      "Isolation forest ['pp', 'zp', 'cf'], n_estimators = 5\n",
      "Isolation forest ['pp', 'zp', 'cf'], n_estimators = 10\n",
      "Isolation forest ['pp', 'zp', 'cf'], n_estimators = 50\n",
      "Isolation forest ['pp', 'zp', 'cf'], n_estimators = 100\n",
      "Isolation forest ['pp', 'zp', 'ent'], n_estimators = 5\n",
      "Isolation forest ['pp', 'zp', 'ent'], n_estimators = 10\n",
      "Isolation forest ['pp', 'zp', 'ent'], n_estimators = 50\n",
      "Isolation forest ['pp', 'zp', 'ent'], n_estimators = 100\n",
      "Isolation forest ['pp', 'cf', 'ent'], n_estimators = 5\n",
      "Isolation forest ['pp', 'cf', 'ent'], n_estimators = 10\n",
      "Isolation forest ['pp', 'cf', 'ent'], n_estimators = 50\n",
      "Isolation forest ['pp', 'cf', 'ent'], n_estimators = 100\n",
      "Isolation forest ['zp', 'cf', 'ent'], n_estimators = 5\n",
      "Isolation forest ['zp', 'cf', 'ent'], n_estimators = 10\n",
      "Isolation forest ['zp', 'cf', 'ent'], n_estimators = 50\n",
      "Isolation forest ['zp', 'cf', 'ent'], n_estimators = 100\n"
     ]
    }
   ],
   "source": [
    "estimators_l, acc_l, params_l = [], [], []\n",
    "for i in range(2,4):\n",
    "    for params in combinations([\"mean\",\"std\",\"kurt\",\"rms\",\"pp\",\"zp\",\"cf\",\"ent\"], i):\n",
    "        for estimators in [5,10, 50, 100]:\n",
    "                results, cm, acc = helpers.train_predict_Isolation_noshow(df_replica_train, dict_for_test, dict_test_expected,list(params), random_outliers[params], estimators)\n",
    "                estimators_l.append(estimators)\n",
    "                acc_l.append(acc)\n",
    "                params_l.append(params)\n",
    "res_rbf = pd.DataFrame({\"params\": params_l, \"estimators\": estimators_l, \"accuracy\": acc_l})"
   ]
  },
  {
   "cell_type": "code",
   "execution_count": 32,
   "id": "1045905e",
   "metadata": {},
   "outputs": [],
   "source": [
    "res_rbf = pd.DataFrame({\"params\": params_l, \"estimators\": estimators_l, \"accuracy\": acc_l})"
   ]
  },
  {
   "cell_type": "code",
   "execution_count": 33,
   "id": "ec8a8d12",
   "metadata": {},
   "outputs": [
    {
     "data": {
      "text/html": [
       "<div>\n",
       "<style scoped>\n",
       "    .dataframe tbody tr th:only-of-type {\n",
       "        vertical-align: middle;\n",
       "    }\n",
       "\n",
       "    .dataframe tbody tr th {\n",
       "        vertical-align: top;\n",
       "    }\n",
       "\n",
       "    .dataframe thead th {\n",
       "        text-align: right;\n",
       "    }\n",
       "</style>\n",
       "<table border=\"1\" class=\"dataframe\">\n",
       "  <thead>\n",
       "    <tr style=\"text-align: right;\">\n",
       "      <th></th>\n",
       "      <th>estimators</th>\n",
       "      <th>accuracy</th>\n",
       "    </tr>\n",
       "  </thead>\n",
       "  <tbody>\n",
       "    <tr>\n",
       "      <th>count</th>\n",
       "      <td>336.000000</td>\n",
       "      <td>336.000000</td>\n",
       "    </tr>\n",
       "    <tr>\n",
       "      <th>mean</th>\n",
       "      <td>41.250000</td>\n",
       "      <td>0.742808</td>\n",
       "    </tr>\n",
       "    <tr>\n",
       "      <th>std</th>\n",
       "      <td>38.197249</td>\n",
       "      <td>0.120450</td>\n",
       "    </tr>\n",
       "    <tr>\n",
       "      <th>min</th>\n",
       "      <td>5.000000</td>\n",
       "      <td>0.369277</td>\n",
       "    </tr>\n",
       "    <tr>\n",
       "      <th>25%</th>\n",
       "      <td>8.750000</td>\n",
       "      <td>0.671536</td>\n",
       "    </tr>\n",
       "    <tr>\n",
       "      <th>50%</th>\n",
       "      <td>30.000000</td>\n",
       "      <td>0.750502</td>\n",
       "    </tr>\n",
       "    <tr>\n",
       "      <th>75%</th>\n",
       "      <td>62.500000</td>\n",
       "      <td>0.842319</td>\n",
       "    </tr>\n",
       "    <tr>\n",
       "      <th>max</th>\n",
       "      <td>100.000000</td>\n",
       "      <td>0.938755</td>\n",
       "    </tr>\n",
       "  </tbody>\n",
       "</table>\n",
       "</div>"
      ],
      "text/plain": [
       "       estimators    accuracy\n",
       "count  336.000000  336.000000\n",
       "mean    41.250000    0.742808\n",
       "std     38.197249    0.120450\n",
       "min      5.000000    0.369277\n",
       "25%      8.750000    0.671536\n",
       "50%     30.000000    0.750502\n",
       "75%     62.500000    0.842319\n",
       "max    100.000000    0.938755"
      ]
     },
     "execution_count": 33,
     "metadata": {},
     "output_type": "execute_result"
    }
   ],
   "source": [
    "res_rbf.describe()"
   ]
  },
  {
   "cell_type": "code",
   "execution_count": 34,
   "id": "16b0cc12",
   "metadata": {},
   "outputs": [
    {
     "data": {
      "text/html": [
       "<div>\n",
       "<style scoped>\n",
       "    .dataframe tbody tr th:only-of-type {\n",
       "        vertical-align: middle;\n",
       "    }\n",
       "\n",
       "    .dataframe tbody tr th {\n",
       "        vertical-align: top;\n",
       "    }\n",
       "\n",
       "    .dataframe thead th {\n",
       "        text-align: right;\n",
       "    }\n",
       "</style>\n",
       "<table border=\"1\" class=\"dataframe\">\n",
       "  <thead>\n",
       "    <tr style=\"text-align: right;\">\n",
       "      <th></th>\n",
       "      <th>params</th>\n",
       "      <th>estimators</th>\n",
       "      <th>accuracy</th>\n",
       "    </tr>\n",
       "  </thead>\n",
       "  <tbody>\n",
       "    <tr>\n",
       "      <th>114</th>\n",
       "      <td>(mean, std, kurt)</td>\n",
       "      <td>50</td>\n",
       "      <td>0.938755</td>\n",
       "    </tr>\n",
       "    <tr>\n",
       "      <th>113</th>\n",
       "      <td>(mean, std, kurt)</td>\n",
       "      <td>10</td>\n",
       "      <td>0.937550</td>\n",
       "    </tr>\n",
       "    <tr>\n",
       "      <th>2</th>\n",
       "      <td>(mean, std)</td>\n",
       "      <td>50</td>\n",
       "      <td>0.935743</td>\n",
       "    </tr>\n",
       "    <tr>\n",
       "      <th>3</th>\n",
       "      <td>(mean, std)</td>\n",
       "      <td>100</td>\n",
       "      <td>0.935341</td>\n",
       "    </tr>\n",
       "    <tr>\n",
       "      <th>7</th>\n",
       "      <td>(mean, kurt)</td>\n",
       "      <td>100</td>\n",
       "      <td>0.929518</td>\n",
       "    </tr>\n",
       "    <tr>\n",
       "      <th>...</th>\n",
       "      <td>...</td>\n",
       "      <td>...</td>\n",
       "      <td>...</td>\n",
       "    </tr>\n",
       "    <tr>\n",
       "      <th>92</th>\n",
       "      <td>(pp, cf)</td>\n",
       "      <td>5</td>\n",
       "      <td>0.455020</td>\n",
       "    </tr>\n",
       "    <tr>\n",
       "      <th>103</th>\n",
       "      <td>(zp, cf)</td>\n",
       "      <td>100</td>\n",
       "      <td>0.454819</td>\n",
       "    </tr>\n",
       "    <tr>\n",
       "      <th>94</th>\n",
       "      <td>(pp, cf)</td>\n",
       "      <td>50</td>\n",
       "      <td>0.452811</td>\n",
       "    </tr>\n",
       "    <tr>\n",
       "      <th>100</th>\n",
       "      <td>(zp, cf)</td>\n",
       "      <td>5</td>\n",
       "      <td>0.447189</td>\n",
       "    </tr>\n",
       "    <tr>\n",
       "      <th>88</th>\n",
       "      <td>(pp, zp)</td>\n",
       "      <td>5</td>\n",
       "      <td>0.369277</td>\n",
       "    </tr>\n",
       "  </tbody>\n",
       "</table>\n",
       "<p>336 rows × 3 columns</p>\n",
       "</div>"
      ],
      "text/plain": [
       "                params  estimators  accuracy\n",
       "114  (mean, std, kurt)          50  0.938755\n",
       "113  (mean, std, kurt)          10  0.937550\n",
       "2          (mean, std)          50  0.935743\n",
       "3          (mean, std)         100  0.935341\n",
       "7         (mean, kurt)         100  0.929518\n",
       "..                 ...         ...       ...\n",
       "92            (pp, cf)           5  0.455020\n",
       "103           (zp, cf)         100  0.454819\n",
       "94            (pp, cf)          50  0.452811\n",
       "100           (zp, cf)           5  0.447189\n",
       "88            (pp, zp)           5  0.369277\n",
       "\n",
       "[336 rows x 3 columns]"
      ]
     },
     "execution_count": 34,
     "metadata": {},
     "output_type": "execute_result"
    }
   ],
   "source": [
    "res_rbf.sort_values(by=\"accuracy\", ascending=False)"
   ]
  },
  {
   "cell_type": "code",
   "execution_count": 35,
   "id": "6446cec0",
   "metadata": {},
   "outputs": [
    {
     "name": "stdout",
     "output_type": "stream",
     "text": [
      "Isolation forest ['mean', 'std'], n_estimators = 50\n"
     ]
    }
   ],
   "source": [
    "results, cm, acc = helpers.train_predict_Isolation_noshow(df_replica_train,dict_for_test, dict_test_expected,[\"mean\",\"std\"], random_outliers[(\"mean\", \"std\")],50)"
   ]
  },
  {
   "cell_type": "code",
   "execution_count": 36,
   "id": "9db0c90b",
   "metadata": {},
   "outputs": [
    {
     "data": {
      "text/plain": [
       "0.9357429718875502"
      ]
     },
     "execution_count": 36,
     "metadata": {},
     "output_type": "execute_result"
    }
   ],
   "source": [
    "acc"
   ]
  },
  {
   "cell_type": "code",
   "execution_count": 37,
   "id": "8da55eb3",
   "metadata": {},
   "outputs": [
    {
     "data": {
      "text/plain": [
       "{'train': (array([-1,  1]), array([  14, 1314])),\n",
       " 'test': (array([-1,  1]), array([  5, 327])),\n",
       " 'other': (array([-1,  1]), array([3019,  301]))}"
      ]
     },
     "execution_count": 37,
     "metadata": {},
     "output_type": "execute_result"
    }
   ],
   "source": [
    "results"
   ]
  },
  {
   "cell_type": "code",
   "execution_count": 39,
   "id": "695965ea",
   "metadata": {},
   "outputs": [
    {
     "name": "stdout",
     "output_type": "stream",
     "text": [
      "Isolation forest ['mean', 'std'], n_estimators = 100\n"
     ]
    },
    {
     "data": {
      "image/png": "[encoded data removed]",
      "text/plain": [
       "<Figure size 864x504 with 1 Axes>"
      ]
     },
     "metadata": {
      "needs_background": "light"
     },
     "output_type": "display_data"
    }
   ],
   "source": [
    "params=[\"mean\",\"std\"]\n",
    "n_estimators=100\n",
    "print(f\"Isolation forest {params}, n_estimators = {n_estimators}\")\n",
    "train_data=helpers.append_data_from_nparray([df_replica_train[params],random_outliers[(\"mean\", \"std\")]])\n",
    "clf = IsolationForest(random_state=34,n_estimators=n_estimators,contamination=len(random_outliers[(\"mean\", \"std\")])/len(train_data)).fit(train_data)\n",
    "y_true=[]\n",
    "y_pred=[]\n",
    "results={}\n",
    "for dataset in dict_for_test:\n",
    "    res=clf.predict(dict_for_test[dataset][params])\n",
    "    results[dataset]=np.unique(res,return_counts=True)\n",
    "    y_true.extend([dict_test_expected[dataset]]*len(res))\n",
    "    y_pred.extend(res)\n",
    "    cm=confusion_matrix(y_true, y_pred, labels=np.unique(y_true))\n",
    "    accuracy=accuracy_score(y_true, y_pred)\n",
    "    \n",
    "# plot the line, the samples, and the nearest vectors to the plane\n",
    "xx, yy = np.meshgrid(np.linspace(-0.4, 0.2, 50), np.linspace(0, 2, 50))\n",
    "Z = clf.decision_function(np.c_[xx.ravel(), yy.ravel()])\n",
    "Z = Z.reshape(xx.shape)\n",
    "\n",
    "plt.contourf(xx, yy, Z, cmap=plt.cm.Blues_r)\n",
    "\n",
    "b1 = plt.scatter(dict_for_test[\"train\"][[\"mean\"]], dict_for_test[\"train\"][[\"std\"]], c=\"white\", s=20, edgecolor=\"k\")\n",
    "b2 = plt.scatter(dict_for_test[\"test\"][[\"mean\"]], dict_for_test[\"test\"][[\"std\"]], c=\"green\", s=20, edgecolor=\"k\")\n",
    "c = plt.scatter(dict_for_test[\"other\"][[\"mean\"]], dict_for_test[\"other\"][[\"std\"]], c=\"red\", s=20, edgecolor=\"k\")\n",
    "d = plt.scatter([item[0] for item in random_outliers[(\"mean\",\"std\")]], [item[1] for item in random_outliers[(\"mean\",\"std\")]], c=\"yellow\", s=20, edgecolor=\"k\")\n",
    "\n",
    "plt.axis(\"tight\")\n",
    "plt.xlabel(\"Mean\")\n",
    "plt.ylabel(\"Standard Deviation\")\n",
    "plt.xlim((-0.4, 0.2))\n",
    "plt.ylim((0, 2))\n",
    "plt.legend(\n",
    "    [b1, b2, c, d],\n",
    "    [\"Replica (training set)\", \"Replica (validation set)\", \"Unhealthy (test)\",\"Random outliers (training)\"],\n",
    "    bbox_to_anchor=(1.04,1),\n",
    "    loc=\"upper left\",\n",
    ")\n",
    "plt.show()"
   ]
  },
  {
   "cell_type": "code",
   "execution_count": null,
   "id": "578a2dbb",
   "metadata": {},
   "outputs": [],
   "source": []
  }
 ],
 "metadata": {
  "kernelspec": {
   "display_name": "Python 3 (ipykernel)",
   "language": "python",
   "name": "python3"
  },
  "language_info": {
   "codemirror_mode": {
    "name": "ipython",
    "version": 3
   },
   "file_extension": ".py",
   "mimetype": "text/x-python",
   "name": "python",
   "nbconvert_exporter": "python",
   "pygments_lexer": "ipython3",
   "version": "3.9.5"
  }
 },
 "nbformat": 4,
 "nbformat_minor": 5
}
